{
 "cells": [
  {
   "cell_type": "markdown",
   "metadata": {},
   "source": [
    "# Business Understanding"
   ]
  },
  {
   "cell_type": "markdown",
   "metadata": {},
   "source": [
    "## Problem Statement\n",
    "- Our company wants to launch a movie studio but has no experience in film production. We need to **identify what types of movies are currently profitable** to avoid financial losses from creating unpopular films."
   ]
  },
  {
   "cell_type": "markdown",
   "metadata": {},
   "source": [
    "## Business Objectives\n",
    "**Objectives**\n",
    "\n",
    "- Identify **top 5 genres** with highest profit margins.\n",
    "\n",
    "- Determine **optimal release month** for each genre.\n",
    "\n",
    "- Analyze if **low-budget movies** (<$10M) can achieve **high ROI.**\n",
    "\n",
    "- Recommend **3 proven directors** for hire."
   ]
  },
  {
   "cell_type": "markdown",
   "metadata": {},
   "source": [
    "## Project Goals\n",
    "- Analyze movie datasets (Box Office Mojo, IMDB, etc.) to find patterns in successful films. Focus on **genres**, **release time**, **budgets**, and **directors**. Create simple, clear recommendations for the studio head using basic data analysis."
   ]
  },
  {
   "cell_type": "markdown",
   "metadata": {
    "jp-MarkdownHeadingCollapsed": true
   },
   "source": [
    "## Success Criteria\n",
    "1. **Genre Recommendations**: Identify at least 5 movie genres with significantly above-average ROI, based on the cleaned dataset from 2010–2020.\n",
    "2. **Seasonal Strategy**: list the top 2–3 calendar months that consistently yield the highest average ROI for releases.\n",
    "3. **Budget Viability**: Demonstrate whether movies with production budgets under $10M can achieve high ROI.\n",
    "4. **Director Shortlist**: Recommend at least 3 proven directors suitable for hire."
   ]
  },
  {
   "cell_type": "markdown",
   "metadata": {},
   "source": [
    "# Data Understanding"
   ]
  },
  {
   "cell_type": "markdown",
   "metadata": {},
   "source": [
    "## Data Sources Overview\n",
    "\n",
    "The following publicly available movie datasets will be explored. Their collective relevance to the studio head's problem lies in their ability to answer core questions about profitable film types:\n",
    "\n",
    " - **Box Office Mojo** (CSV): Contains domestic gross earnings and release dates (2010-2018), directly indicating when films perform best.\n",
    "\n",
    " - **IMDB** (SQLite Database): Provides genre classifications, director information, and titles, essential for categorizing what types of films exist.\n",
    "\n",
    " - **Rotten Tomatoes** (TSV): Includes critic/audience scores, useful for understanding quality perception of successful films.\n",
    "\n",
    " - **TheMovieDB** (CSV): Offers popularity metrics and international revenue data, supplementing financial analysis.\n",
    "\n",
    " - **The Numbers** (CSV): Features production budgets and worldwide gross figures (1915-2020), enabling profitability calculations – the core success metric.\n",
    "\n",
    "These datasets collectively address the studio head's need to identify profitable film characteristics by covering financial performance, genre trends, release timing, and creative talent"
   ]
  },
  {
   "cell_type": "markdown",
   "metadata": {},
   "source": [
    "## Data Loading and Initial Exploration"
   ]
  },
  {
   "cell_type": "markdown",
   "metadata": {},
   "source": [
    "### Understanding The Numbers Dataset"
   ]
  },
  {
   "cell_type": "code",
   "execution_count": 10,
   "metadata": {},
   "outputs": [],
   "source": [
    "import pandas as pd\n",
    "import matplotlib.pyplot as plt\n",
    "import seaborn as sns\n"
   ]
  },
  {
   "cell_type": "code",
   "execution_count": 11,
   "metadata": {},
   "outputs": [
    {
     "data": {
      "text/html": [
       "<div>\n",
       "<style scoped>\n",
       "    .dataframe tbody tr th:only-of-type {\n",
       "        vertical-align: middle;\n",
       "    }\n",
       "\n",
       "    .dataframe tbody tr th {\n",
       "        vertical-align: top;\n",
       "    }\n",
       "\n",
       "    .dataframe thead th {\n",
       "        text-align: right;\n",
       "    }\n",
       "</style>\n",
       "<table border=\"1\" class=\"dataframe\">\n",
       "  <thead>\n",
       "    <tr style=\"text-align: right;\">\n",
       "      <th></th>\n",
       "      <th>id</th>\n",
       "      <th>release_date</th>\n",
       "      <th>movie</th>\n",
       "      <th>production_budget</th>\n",
       "      <th>domestic_gross</th>\n",
       "      <th>worldwide_gross</th>\n",
       "    </tr>\n",
       "  </thead>\n",
       "  <tbody>\n",
       "    <tr>\n",
       "      <th>0</th>\n",
       "      <td>1</td>\n",
       "      <td>Dec 18, 2009</td>\n",
       "      <td>Avatar</td>\n",
       "      <td>$425,000,000</td>\n",
       "      <td>$760,507,625</td>\n",
       "      <td>$2,776,345,279</td>\n",
       "    </tr>\n",
       "    <tr>\n",
       "      <th>1</th>\n",
       "      <td>2</td>\n",
       "      <td>May 20, 2011</td>\n",
       "      <td>Pirates of the Caribbean: On Stranger Tides</td>\n",
       "      <td>$410,600,000</td>\n",
       "      <td>$241,063,875</td>\n",
       "      <td>$1,045,663,875</td>\n",
       "    </tr>\n",
       "    <tr>\n",
       "      <th>2</th>\n",
       "      <td>3</td>\n",
       "      <td>Jun 7, 2019</td>\n",
       "      <td>Dark Phoenix</td>\n",
       "      <td>$350,000,000</td>\n",
       "      <td>$42,762,350</td>\n",
       "      <td>$149,762,350</td>\n",
       "    </tr>\n",
       "  </tbody>\n",
       "</table>\n",
       "</div>"
      ],
      "text/plain": [
       "   id  release_date                                        movie  \\\n",
       "0   1  Dec 18, 2009                                       Avatar   \n",
       "1   2  May 20, 2011  Pirates of the Caribbean: On Stranger Tides   \n",
       "2   3   Jun 7, 2019                                 Dark Phoenix   \n",
       "\n",
       "  production_budget domestic_gross worldwide_gross  \n",
       "0      $425,000,000   $760,507,625  $2,776,345,279  \n",
       "1      $410,600,000   $241,063,875  $1,045,663,875  \n",
       "2      $350,000,000    $42,762,350    $149,762,350  "
      ]
     },
     "execution_count": 11,
     "metadata": {},
     "output_type": "execute_result"
    }
   ],
   "source": [
    "# Load the dataset\n",
    "df_budget = pd.read_csv('data/tn.movie_budgets.csv')\n",
    "\n",
    "df_budget.head(3) "
   ]
  },
  {
   "cell_type": "code",
   "execution_count": 12,
   "metadata": {},
   "outputs": [
    {
     "name": "stdout",
     "output_type": "stream",
     "text": [
      "id                    int64\n",
      "release_date         object\n",
      "movie                object\n",
      "production_budget    object\n",
      "domestic_gross       object\n",
      "worldwide_gross      object\n",
      "dtype: object\n"
     ]
    }
   ],
   "source": [
    "print(df_budget.dtypes)"
   ]
  },
  {
   "cell_type": "markdown",
   "metadata": {},
   "source": [
    "important columns\n",
    "- `production_budget`: Film creation costs\n",
    "- `domestic_gross`: US earnings\n",
    "- `worldwide_gross`: Global earnings\n",
    "- `release date`\n",
    "\n",
    "These directly measure profitability\n",
    "\n",
    "- Financial values stored as strings(object) with currency symbols for example `$110,000,000` requiring cleaning"
   ]
  },
  {
   "cell_type": "code",
   "execution_count": 14,
   "metadata": {},
   "outputs": [
    {
     "name": "stdout",
     "output_type": "stream",
     "text": [
      "Oldest release: Apr 1, 1975\n",
      "Newest release: Sep 9, 2016\n"
     ]
    }
   ],
   "source": [
    "print(f'Oldest release: {df_budget['release_date'].min()}')\n",
    "print(f'Newest release: {df_budget['release_date'].max()}')"
   ]
  },
  {
   "cell_type": "markdown",
   "metadata": {},
   "source": [
    "- The dataset covers films from `Apr 1, 1975` to `Sep 9, 2016` that is 41 years of movie financial data. This is valuable as it focuses on recent conditions which are relevant to our new studio.\n",
    "- Release dates in `MM DD YYYY`"
   ]
  },
  {
   "cell_type": "code",
   "execution_count": 16,
   "metadata": {},
   "outputs": [
    {
     "data": {
      "text/plain": [
       "Text(0, 0.5, 'Number of Films')"
      ]
     },
     "execution_count": 16,
     "metadata": {},
     "output_type": "execute_result"
    },
    {
     "data": {
      "image/png": "[encoded data removed]",
      "text/plain": [
       "<Figure size 640x480 with 1 Axes>"
      ]
     },
     "metadata": {},
     "output_type": "display_data"
    }
   ],
   "source": [
    "#to datetime\n",
    "df_budget['release_date'] = pd.to_datetime(df_budget['release_date'], format='%b %d, %Y')\n",
    "\n",
    "# taking the year only\n",
    "df_budget['release_date'].dt.year.hist(bins=range(1975,2021,5))\n",
    "plt.title(\"Film Distribution by decade\")\n",
    "plt.xlabel(\"Release Year\")\n",
    "plt.ylabel(\"Number of Films\")\n"
   ]
  },
  {
   "cell_type": "markdown",
   "metadata": {},
   "source": [
    "- data concentrated between 2000 and 2020 this is a good sign as it covers the current market trends"
   ]
  },
  {
   "cell_type": "code",
   "execution_count": 17,
   "metadata": {},
   "outputs": [
    {
     "data": {
      "text/plain": [
       "id                   5782\n",
       "release_date         5782\n",
       "movie                5782\n",
       "production_budget    5782\n",
       "domestic_gross       5782\n",
       "worldwide_gross      5782\n",
       "dtype: int64"
      ]
     },
     "execution_count": 17,
     "metadata": {},
     "output_type": "execute_result"
    }
   ],
   "source": [
    "df_budget.count()"
   ]
  },
  {
   "cell_type": "code",
   "execution_count": 18,
   "metadata": {},
   "outputs": [
    {
     "data": {
      "text/plain": [
       "id                   0\n",
       "release_date         0\n",
       "movie                0\n",
       "production_budget    0\n",
       "domestic_gross       0\n",
       "worldwide_gross      0\n",
       "dtype: int64"
      ]
     },
     "execution_count": 18,
     "metadata": {},
     "output_type": "execute_result"
    }
   ],
   "source": [
    "df_budget.isna().sum()"
   ]
  },
  {
   "cell_type": "markdown",
   "metadata": {},
   "source": [
    "- No missing values"
   ]
  },
  {
   "cell_type": "markdown",
   "metadata": {},
   "source": [
    "#### Conclusion\n",
    "- Covers 5,782 films with complete data.\n",
    "- Lacks genre/director details.\n",
    "- Its stronghold is that it has complete budget and gross."
   ]
  },
  {
   "cell_type": "markdown",
   "metadata": {},
   "source": [
    "### Understanding Box Office Mojo Dataset"
   ]
  },
  {
   "cell_type": "code",
   "execution_count": 22,
   "metadata": {},
   "outputs": [
    {
     "data": {
      "text/html": [
       "<div>\n",
       "<style scoped>\n",
       "    .dataframe tbody tr th:only-of-type {\n",
       "        vertical-align: middle;\n",
       "    }\n",
       "\n",
       "    .dataframe tbody tr th {\n",
       "        vertical-align: top;\n",
       "    }\n",
       "\n",
       "    .dataframe thead th {\n",
       "        text-align: right;\n",
       "    }\n",
       "</style>\n",
       "<table border=\"1\" class=\"dataframe\">\n",
       "  <thead>\n",
       "    <tr style=\"text-align: right;\">\n",
       "      <th></th>\n",
       "      <th>title</th>\n",
       "      <th>studio</th>\n",
       "      <th>domestic_gross</th>\n",
       "      <th>foreign_gross</th>\n",
       "      <th>year</th>\n",
       "    </tr>\n",
       "  </thead>\n",
       "  <tbody>\n",
       "    <tr>\n",
       "      <th>0</th>\n",
       "      <td>Toy Story 3</td>\n",
       "      <td>BV</td>\n",
       "      <td>415000000.0</td>\n",
       "      <td>652000000</td>\n",
       "      <td>2010</td>\n",
       "    </tr>\n",
       "    <tr>\n",
       "      <th>1</th>\n",
       "      <td>Alice in Wonderland (2010)</td>\n",
       "      <td>BV</td>\n",
       "      <td>334200000.0</td>\n",
       "      <td>691300000</td>\n",
       "      <td>2010</td>\n",
       "    </tr>\n",
       "    <tr>\n",
       "      <th>2</th>\n",
       "      <td>Harry Potter and the Deathly Hallows Part 1</td>\n",
       "      <td>WB</td>\n",
       "      <td>296000000.0</td>\n",
       "      <td>664300000</td>\n",
       "      <td>2010</td>\n",
       "    </tr>\n",
       "  </tbody>\n",
       "</table>\n",
       "</div>"
      ],
      "text/plain": [
       "                                         title studio  domestic_gross  \\\n",
       "0                                  Toy Story 3     BV     415000000.0   \n",
       "1                   Alice in Wonderland (2010)     BV     334200000.0   \n",
       "2  Harry Potter and the Deathly Hallows Part 1     WB     296000000.0   \n",
       "\n",
       "  foreign_gross  year  \n",
       "0     652000000  2010  \n",
       "1     691300000  2010  \n",
       "2     664300000  2010  "
      ]
     },
     "execution_count": 22,
     "metadata": {},
     "output_type": "execute_result"
    }
   ],
   "source": [
    "# Load the dataset\n",
    "df_gross = pd.read_csv('data/bom.movie_gross.csv')\n",
    "df_gross.head(3)"
   ]
  },
  {
   "cell_type": "code",
   "execution_count": 23,
   "metadata": {},
   "outputs": [
    {
     "data": {
      "text/plain": [
       "title              object\n",
       "studio             object\n",
       "domestic_gross    float64\n",
       "foreign_gross      object\n",
       "year                int64\n",
       "dtype: object"
      ]
     },
     "execution_count": 23,
     "metadata": {},
     "output_type": "execute_result"
    }
   ],
   "source": [
    "df_gross.dtypes"
   ]
  },
  {
   "cell_type": "markdown",
   "metadata": {},
   "source": [
    "important columns:\n",
    "- `Title`\n",
    "- `Domestic_gross`: US box office earnings\n",
    "- `Foreign_gross`: International earnings (string)\n",
    "- `Year`: Release year\n",
    "- `Studio`"
   ]
  },
  {
   "cell_type": "code",
   "execution_count": 25,
   "metadata": {},
   "outputs": [
    {
     "data": {
      "text/plain": [
       "(3387, 5)"
      ]
     },
     "execution_count": 25,
     "metadata": {},
     "output_type": "execute_result"
    }
   ],
   "source": [
    "df_gross.shape"
   ]
  },
  {
   "cell_type": "code",
   "execution_count": 26,
   "metadata": {},
   "outputs": [
    {
     "name": "stdout",
     "output_type": "stream",
     "text": [
      "Oldest release: 2010\n",
      "Newest release: 2018\n"
     ]
    }
   ],
   "source": [
    "print(f'Oldest release: {df_gross['year'].min()}')\n",
    "print(f'Newest release: {df_gross['year'].max()}')"
   ]
  },
  {
   "cell_type": "markdown",
   "metadata": {},
   "source": [
    "- Focuses exclusively on recent films this is highly relevant for our new studio "
   ]
  },
  {
   "cell_type": "code",
   "execution_count": 28,
   "metadata": {},
   "outputs": [
    {
     "data": {
      "text/plain": [
       "title                0\n",
       "studio               5\n",
       "domestic_gross      28\n",
       "foreign_gross     1350\n",
       "year                 0\n",
       "dtype: int64"
      ]
     },
     "execution_count": 28,
     "metadata": {},
     "output_type": "execute_result"
    }
   ],
   "source": [
    "df_gross.isna().sum()"
   ]
  },
  {
   "cell_type": "markdown",
   "metadata": {},
   "source": [
    "- 0.826% missing values in `domestic_gross`, 28 films lack US earnings data\n",
    "- Additional 39.85% missing in `foreign_gross`, 1350 films lack international data"
   ]
  },
  {
   "cell_type": "code",
   "execution_count": 30,
   "metadata": {},
   "outputs": [
    {
     "data": {
      "image/png": "[encoded data removed]",
      "text/plain": [
       "<Figure size 640x480 with 1 Axes>"
      ]
     },
     "metadata": {},
     "output_type": "display_data"
    }
   ],
   "source": [
    "df_gross['year'].value_counts().sort_index().plot.bar()\n",
    "plt.title(\"Movies by Release Year\")\n",
    "plt.show()"
   ]
  },
  {
   "cell_type": "code",
   "execution_count": 31,
   "metadata": {},
   "outputs": [
    {
     "data": {
      "text/plain": [
       "(3387, 5)"
      ]
     },
     "execution_count": 31,
     "metadata": {},
     "output_type": "execute_result"
    }
   ],
   "source": [
    "df_gross.shape"
   ]
  },
  {
   "cell_type": "markdown",
   "metadata": {},
   "source": [
    "#### Conclusion\n",
    "- The 2010-2018 coverage is good for the company as it shows us the current market behaviour\n",
    "- Missing gross values will require data cleaning\n",
    "- Contains studio information\n",
    "- Redundancy with The Numbers' more complete financial data."
   ]
  },
  {
   "cell_type": "markdown",
   "metadata": {},
   "source": [
    "### Understanding IMDB Dataset"
   ]
  },
  {
   "cell_type": "code",
   "execution_count": 34,
   "metadata": {},
   "outputs": [],
   "source": [
    "import sqlite3\n",
    "# Connect to database\n",
    "conn = sqlite3.connect('data/im.db')"
   ]
  },
  {
   "cell_type": "code",
   "execution_count": 35,
   "metadata": {},
   "outputs": [
    {
     "data": {
      "text/html": [
       "<div>\n",
       "<style scoped>\n",
       "    .dataframe tbody tr th:only-of-type {\n",
       "        vertical-align: middle;\n",
       "    }\n",
       "\n",
       "    .dataframe tbody tr th {\n",
       "        vertical-align: top;\n",
       "    }\n",
       "\n",
       "    .dataframe thead th {\n",
       "        text-align: right;\n",
       "    }\n",
       "</style>\n",
       "<table border=\"1\" class=\"dataframe\">\n",
       "  <thead>\n",
       "    <tr style=\"text-align: right;\">\n",
       "      <th></th>\n",
       "      <th>name</th>\n",
       "    </tr>\n",
       "  </thead>\n",
       "  <tbody>\n",
       "    <tr>\n",
       "      <th>0</th>\n",
       "      <td>movie_basics</td>\n",
       "    </tr>\n",
       "    <tr>\n",
       "      <th>1</th>\n",
       "      <td>directors</td>\n",
       "    </tr>\n",
       "    <tr>\n",
       "      <th>2</th>\n",
       "      <td>known_for</td>\n",
       "    </tr>\n",
       "    <tr>\n",
       "      <th>3</th>\n",
       "      <td>movie_akas</td>\n",
       "    </tr>\n",
       "    <tr>\n",
       "      <th>4</th>\n",
       "      <td>movie_ratings</td>\n",
       "    </tr>\n",
       "    <tr>\n",
       "      <th>5</th>\n",
       "      <td>persons</td>\n",
       "    </tr>\n",
       "    <tr>\n",
       "      <th>6</th>\n",
       "      <td>principals</td>\n",
       "    </tr>\n",
       "    <tr>\n",
       "      <th>7</th>\n",
       "      <td>writers</td>\n",
       "    </tr>\n",
       "  </tbody>\n",
       "</table>\n",
       "</div>"
      ],
      "text/plain": [
       "            name\n",
       "0   movie_basics\n",
       "1      directors\n",
       "2      known_for\n",
       "3     movie_akas\n",
       "4  movie_ratings\n",
       "5        persons\n",
       "6     principals\n",
       "7        writers"
      ]
     },
     "execution_count": 35,
     "metadata": {},
     "output_type": "execute_result"
    }
   ],
   "source": [
    "# Check available tables\n",
    "pd.read_sql(\"\"\"SELECT name \n",
    "               FROM sqlite_master \n",
    "               WHERE type='table';\"\"\", conn)"
   ]
  },
  {
   "cell_type": "markdown",
   "metadata": {},
   "source": [
    "- `movie_basics`: Movie metadata \n",
    "- `movie_ratings`: Audience ratings\n",
    "- `directors/writers`: Creative talent information"
   ]
  },
  {
   "cell_type": "code",
   "execution_count": 37,
   "metadata": {},
   "outputs": [
    {
     "data": {
      "text/html": [
       "<div>\n",
       "<style scoped>\n",
       "    .dataframe tbody tr th:only-of-type {\n",
       "        vertical-align: middle;\n",
       "    }\n",
       "\n",
       "    .dataframe tbody tr th {\n",
       "        vertical-align: top;\n",
       "    }\n",
       "\n",
       "    .dataframe thead th {\n",
       "        text-align: right;\n",
       "    }\n",
       "</style>\n",
       "<table border=\"1\" class=\"dataframe\">\n",
       "  <thead>\n",
       "    <tr style=\"text-align: right;\">\n",
       "      <th></th>\n",
       "      <th>movie_id</th>\n",
       "      <th>primary_title</th>\n",
       "      <th>original_title</th>\n",
       "      <th>start_year</th>\n",
       "      <th>runtime_minutes</th>\n",
       "      <th>genres</th>\n",
       "    </tr>\n",
       "  </thead>\n",
       "  <tbody>\n",
       "    <tr>\n",
       "      <th>0</th>\n",
       "      <td>tt0063540</td>\n",
       "      <td>Sunghursh</td>\n",
       "      <td>Sunghursh</td>\n",
       "      <td>2013</td>\n",
       "      <td>175.0</td>\n",
       "      <td>Action,Crime,Drama</td>\n",
       "    </tr>\n",
       "    <tr>\n",
       "      <th>1</th>\n",
       "      <td>tt0066787</td>\n",
       "      <td>One Day Before the Rainy Season</td>\n",
       "      <td>Ashad Ka Ek Din</td>\n",
       "      <td>2019</td>\n",
       "      <td>114.0</td>\n",
       "      <td>Biography,Drama</td>\n",
       "    </tr>\n",
       "    <tr>\n",
       "      <th>2</th>\n",
       "      <td>tt0069049</td>\n",
       "      <td>The Other Side of the Wind</td>\n",
       "      <td>The Other Side of the Wind</td>\n",
       "      <td>2018</td>\n",
       "      <td>122.0</td>\n",
       "      <td>Drama</td>\n",
       "    </tr>\n",
       "    <tr>\n",
       "      <th>3</th>\n",
       "      <td>tt0069204</td>\n",
       "      <td>Sabse Bada Sukh</td>\n",
       "      <td>Sabse Bada Sukh</td>\n",
       "      <td>2018</td>\n",
       "      <td>NaN</td>\n",
       "      <td>Comedy,Drama</td>\n",
       "    </tr>\n",
       "    <tr>\n",
       "      <th>4</th>\n",
       "      <td>tt0100275</td>\n",
       "      <td>The Wandering Soap Opera</td>\n",
       "      <td>La Telenovela Errante</td>\n",
       "      <td>2017</td>\n",
       "      <td>80.0</td>\n",
       "      <td>Comedy,Drama,Fantasy</td>\n",
       "    </tr>\n",
       "  </tbody>\n",
       "</table>\n",
       "</div>"
      ],
      "text/plain": [
       "    movie_id                    primary_title              original_title  \\\n",
       "0  tt0063540                        Sunghursh                   Sunghursh   \n",
       "1  tt0066787  One Day Before the Rainy Season             Ashad Ka Ek Din   \n",
       "2  tt0069049       The Other Side of the Wind  The Other Side of the Wind   \n",
       "3  tt0069204                  Sabse Bada Sukh             Sabse Bada Sukh   \n",
       "4  tt0100275         The Wandering Soap Opera       La Telenovela Errante   \n",
       "\n",
       "   start_year  runtime_minutes                genres  \n",
       "0        2013            175.0    Action,Crime,Drama  \n",
       "1        2019            114.0       Biography,Drama  \n",
       "2        2018            122.0                 Drama  \n",
       "3        2018              NaN          Comedy,Drama  \n",
       "4        2017             80.0  Comedy,Drama,Fantasy  "
      ]
     },
     "execution_count": 37,
     "metadata": {},
     "output_type": "execute_result"
    }
   ],
   "source": [
    "# Load movie basics table\n",
    "pd.read_sql(\"\"\"SELECT * \n",
    "               FROM movie_basics \n",
    "               LIMIT 5;\"\"\", conn)\n"
   ]
  },
  {
   "cell_type": "markdown",
   "metadata": {},
   "source": [
    "- `primary_title`: Official film title, merging key\n",
    "\n",
    "- `start_year`: Release year \n",
    "\n",
    "- `runtime_minutes`: Film duration\n",
    "\n",
    "- Sample entries show genre format as comma-separated strings (\"Action,Crime,Drama\")"
   ]
  },
  {
   "cell_type": "code",
   "execution_count": 39,
   "metadata": {},
   "outputs": [
    {
     "name": "stdout",
     "output_type": "stream",
     "text": [
      "Oldest release: 2010\n",
      "Newest release: 2115\n"
     ]
    }
   ],
   "source": [
    "print(f'Oldest release: {pd.read_sql(\"\"\"SELECT * FROM movie_basics;\"\"\", conn)['start_year'].min()}')\n",
    "print(f'Newest release: {pd.read_sql(\"\"\"SELECT * FROM movie_basics;\"\"\", conn)['start_year'].max()}')"
   ]
  },
  {
   "cell_type": "markdown",
   "metadata": {},
   "source": [
    "the data has  outliers as we see that the newest release is from 2115 which is not possible\n",
    "\n",
    "Let's investigate further:"
   ]
  },
  {
   "cell_type": "code",
   "execution_count": 41,
   "metadata": {},
   "outputs": [
    {
     "name": "stdout",
     "output_type": "stream",
     "text": [
      "Oldest release: start_year\n",
      "2017    17504\n",
      "2016    17272\n",
      "2018    16849\n",
      "2015    16243\n",
      "2014    15589\n",
      "2013    14709\n",
      "2012    13787\n",
      "2011    12900\n",
      "2010    11849\n",
      "2019     8379\n",
      "2020      937\n",
      "2021       83\n",
      "2022       32\n",
      "2023        5\n",
      "2024        2\n",
      "2026        1\n",
      "2025        1\n",
      "2115        1\n",
      "2027        1\n",
      "Name: count, dtype: int64\n"
     ]
    }
   ],
   "source": [
    "print(f'Oldest release: {pd.read_sql(\"\"\"SELECT * FROM movie_basics;\"\"\", conn)['start_year'].value_counts()}')"
   ]
  },
  {
   "cell_type": "markdown",
   "metadata": {},
   "source": [
    "We see that the years are from 2010 to 2115, from 2021 to 2115 I will treat them as outliers\n",
    "\n",
    "also their is no years from 2010 backwards, which is okay here but in the other datasets I will have to use data from 2010 to around 2020 for current market trends"
   ]
  },
  {
   "cell_type": "code",
   "execution_count": 43,
   "metadata": {},
   "outputs": [
    {
     "name": "stdout",
     "output_type": "stream",
     "text": [
      "Total movies: 146144\n",
      "Movies missing genres: 5408\n"
     ]
    }
   ],
   "source": [
    "# Check genre nulls\n",
    "null_genres = pd.read_sql(\"\"\"SELECT COUNT(*) \n",
    "                           FROM movie_basics \n",
    "                           WHERE genres IS NULL;\"\"\", conn)\n",
    "\n",
    "movie_count = pd.read_sql(\"\"\" SELECT COUNT(*) \n",
    "                              FROM movie_basics\"\"\", conn)\n",
    "\n",
    "print(f\"Total movies: {movie_count.iloc[0,0]}\")\n",
    "print(f\"Movies missing genres: {null_genres.iloc[0,0]}\")"
   ]
  },
  {
   "cell_type": "markdown",
   "metadata": {},
   "source": [
    "- Contains 146,144 movies\n",
    "- 5408 movies (3.70%) have null genre values"
   ]
  },
  {
   "cell_type": "markdown",
   "metadata": {},
   "source": [
    "### Understanding Rotten Tomatoes Dataset"
   ]
  },
  {
   "cell_type": "code",
   "execution_count": 46,
   "metadata": {},
   "outputs": [
    {
     "data": {
      "text/html": [
       "<div>\n",
       "<style scoped>\n",
       "    .dataframe tbody tr th:only-of-type {\n",
       "        vertical-align: middle;\n",
       "    }\n",
       "\n",
       "    .dataframe tbody tr th {\n",
       "        vertical-align: top;\n",
       "    }\n",
       "\n",
       "    .dataframe thead th {\n",
       "        text-align: right;\n",
       "    }\n",
       "</style>\n",
       "<table border=\"1\" class=\"dataframe\">\n",
       "  <thead>\n",
       "    <tr style=\"text-align: right;\">\n",
       "      <th></th>\n",
       "      <th>id</th>\n",
       "      <th>review</th>\n",
       "      <th>rating</th>\n",
       "      <th>fresh</th>\n",
       "      <th>critic</th>\n",
       "      <th>top_critic</th>\n",
       "      <th>publisher</th>\n",
       "      <th>date</th>\n",
       "    </tr>\n",
       "  </thead>\n",
       "  <tbody>\n",
       "    <tr>\n",
       "      <th>0</th>\n",
       "      <td>3</td>\n",
       "      <td>A distinctly gallows take on contemporary fina...</td>\n",
       "      <td>3/5</td>\n",
       "      <td>fresh</td>\n",
       "      <td>PJ Nabarro</td>\n",
       "      <td>0</td>\n",
       "      <td>Patrick Nabarro</td>\n",
       "      <td>November 10, 2018</td>\n",
       "    </tr>\n",
       "    <tr>\n",
       "      <th>1</th>\n",
       "      <td>3</td>\n",
       "      <td>It's an allegory in search of a meaning that n...</td>\n",
       "      <td>NaN</td>\n",
       "      <td>rotten</td>\n",
       "      <td>Annalee Newitz</td>\n",
       "      <td>0</td>\n",
       "      <td>io9.com</td>\n",
       "      <td>May 23, 2018</td>\n",
       "    </tr>\n",
       "    <tr>\n",
       "      <th>2</th>\n",
       "      <td>3</td>\n",
       "      <td>... life lived in a bubble in financial dealin...</td>\n",
       "      <td>NaN</td>\n",
       "      <td>fresh</td>\n",
       "      <td>Sean Axmaker</td>\n",
       "      <td>0</td>\n",
       "      <td>Stream on Demand</td>\n",
       "      <td>January 4, 2018</td>\n",
       "    </tr>\n",
       "  </tbody>\n",
       "</table>\n",
       "</div>"
      ],
      "text/plain": [
       "   id                                             review rating   fresh  \\\n",
       "0   3  A distinctly gallows take on contemporary fina...    3/5   fresh   \n",
       "1   3  It's an allegory in search of a meaning that n...    NaN  rotten   \n",
       "2   3  ... life lived in a bubble in financial dealin...    NaN   fresh   \n",
       "\n",
       "           critic  top_critic         publisher               date  \n",
       "0      PJ Nabarro           0   Patrick Nabarro  November 10, 2018  \n",
       "1  Annalee Newitz           0           io9.com       May 23, 2018  \n",
       "2    Sean Axmaker           0  Stream on Demand    January 4, 2018  "
      ]
     },
     "execution_count": 46,
     "metadata": {},
     "output_type": "execute_result"
    }
   ],
   "source": [
    "# Load Rotten Tomatoes data\n",
    "df_rotten = pd.read_csv('data/rt.reviews.tsv', sep='\\t',encoding= 'ISO-8859-1')\n",
    "df_rotten.head(3)"
   ]
  },
  {
   "cell_type": "code",
   "execution_count": 47,
   "metadata": {},
   "outputs": [
    {
     "data": {
      "text/plain": [
       "id             int64\n",
       "review        object\n",
       "rating        object\n",
       "fresh         object\n",
       "critic        object\n",
       "top_critic     int64\n",
       "publisher     object\n",
       "date          object\n",
       "dtype: object"
      ]
     },
     "execution_count": 47,
     "metadata": {},
     "output_type": "execute_result"
    }
   ],
   "source": [
    "df_rotten.dtypes"
   ]
  },
  {
   "cell_type": "markdown",
   "metadata": {},
   "source": [
    "key columns:\n",
    "- `id`\n",
    "- `review` - comments on the movie\n",
    "- `rating` - out of 5\n",
    "- `fresh` - \"Rotten\" (<60%), \"Fresh\" (≥60%)"
   ]
  },
  {
   "cell_type": "code",
   "execution_count": 49,
   "metadata": {},
   "outputs": [
    {
     "data": {
      "text/plain": [
       "(54432, 8)"
      ]
     },
     "execution_count": 49,
     "metadata": {},
     "output_type": "execute_result"
    }
   ],
   "source": [
    "df_rotten.shape"
   ]
  },
  {
   "cell_type": "code",
   "execution_count": 50,
   "metadata": {},
   "outputs": [
    {
     "data": {
      "text/plain": [
       "id                0\n",
       "review         5563\n",
       "rating        13517\n",
       "fresh             0\n",
       "critic         2722\n",
       "top_critic        0\n",
       "publisher       309\n",
       "date              0\n",
       "dtype: int64"
      ]
     },
     "execution_count": 50,
     "metadata": {},
     "output_type": "execute_result"
    }
   ],
   "source": [
    "# Checking nulss\n",
    "df_rotten.isna().sum()"
   ]
  },
  {
   "cell_type": "code",
   "execution_count": 51,
   "metadata": {},
   "outputs": [
    {
     "data": {
      "text/plain": [
       "(54432, 8)"
      ]
     },
     "execution_count": 51,
     "metadata": {},
     "output_type": "execute_result"
    }
   ],
   "source": [
    "df_rotten.shape"
   ]
  },
  {
   "cell_type": "markdown",
   "metadata": {},
   "source": [
    "- 24.83% of rating(13517) is missing\n",
    "- 10.24% of review(5563) is missing\n",
    "- 5.00% of critic(2722) is missing"
   ]
  },
  {
   "cell_type": "markdown",
   "metadata": {},
   "source": [
    "#### Conclusion\n",
    "- Has  data missing with 24.8% ratings and 10.24% review data missing.\n",
    "- Has valuable critics data but not really for profitability analysis."
   ]
  },
  {
   "cell_type": "markdown",
   "metadata": {},
   "source": [
    "### Understanding Rotten Tomatoes Movie Info (additional dataset)"
   ]
  },
  {
   "cell_type": "code",
   "execution_count": 55,
   "metadata": {},
   "outputs": [
    {
     "data": {
      "text/html": [
       "<div>\n",
       "<style scoped>\n",
       "    .dataframe tbody tr th:only-of-type {\n",
       "        vertical-align: middle;\n",
       "    }\n",
       "\n",
       "    .dataframe tbody tr th {\n",
       "        vertical-align: top;\n",
       "    }\n",
       "\n",
       "    .dataframe thead th {\n",
       "        text-align: right;\n",
       "    }\n",
       "</style>\n",
       "<table border=\"1\" class=\"dataframe\">\n",
       "  <thead>\n",
       "    <tr style=\"text-align: right;\">\n",
       "      <th></th>\n",
       "      <th>id</th>\n",
       "      <th>synopsis</th>\n",
       "      <th>rating</th>\n",
       "      <th>genre</th>\n",
       "      <th>director</th>\n",
       "      <th>writer</th>\n",
       "      <th>theater_date</th>\n",
       "      <th>dvd_date</th>\n",
       "      <th>currency</th>\n",
       "      <th>box_office</th>\n",
       "      <th>runtime</th>\n",
       "      <th>studio</th>\n",
       "    </tr>\n",
       "  </thead>\n",
       "  <tbody>\n",
       "    <tr>\n",
       "      <th>0</th>\n",
       "      <td>1</td>\n",
       "      <td>This gritty, fast-paced, and innovative police...</td>\n",
       "      <td>R</td>\n",
       "      <td>Action and Adventure|Classics|Drama</td>\n",
       "      <td>William Friedkin</td>\n",
       "      <td>Ernest Tidyman</td>\n",
       "      <td>Oct 9, 1971</td>\n",
       "      <td>Sep 25, 2001</td>\n",
       "      <td>NaN</td>\n",
       "      <td>NaN</td>\n",
       "      <td>104 minutes</td>\n",
       "      <td>NaN</td>\n",
       "    </tr>\n",
       "    <tr>\n",
       "      <th>1</th>\n",
       "      <td>3</td>\n",
       "      <td>New York City, not-too-distant-future: Eric Pa...</td>\n",
       "      <td>R</td>\n",
       "      <td>Drama|Science Fiction and Fantasy</td>\n",
       "      <td>David Cronenberg</td>\n",
       "      <td>David Cronenberg|Don DeLillo</td>\n",
       "      <td>Aug 17, 2012</td>\n",
       "      <td>Jan 1, 2013</td>\n",
       "      <td>$</td>\n",
       "      <td>600,000</td>\n",
       "      <td>108 minutes</td>\n",
       "      <td>Entertainment One</td>\n",
       "    </tr>\n",
       "    <tr>\n",
       "      <th>2</th>\n",
       "      <td>5</td>\n",
       "      <td>Illeana Douglas delivers a superb performance ...</td>\n",
       "      <td>R</td>\n",
       "      <td>Drama|Musical and Performing Arts</td>\n",
       "      <td>Allison Anders</td>\n",
       "      <td>Allison Anders</td>\n",
       "      <td>Sep 13, 1996</td>\n",
       "      <td>Apr 18, 2000</td>\n",
       "      <td>NaN</td>\n",
       "      <td>NaN</td>\n",
       "      <td>116 minutes</td>\n",
       "      <td>NaN</td>\n",
       "    </tr>\n",
       "  </tbody>\n",
       "</table>\n",
       "</div>"
      ],
      "text/plain": [
       "   id                                           synopsis rating  \\\n",
       "0   1  This gritty, fast-paced, and innovative police...      R   \n",
       "1   3  New York City, not-too-distant-future: Eric Pa...      R   \n",
       "2   5  Illeana Douglas delivers a superb performance ...      R   \n",
       "\n",
       "                                 genre          director  \\\n",
       "0  Action and Adventure|Classics|Drama  William Friedkin   \n",
       "1    Drama|Science Fiction and Fantasy  David Cronenberg   \n",
       "2    Drama|Musical and Performing Arts    Allison Anders   \n",
       "\n",
       "                         writer  theater_date      dvd_date currency  \\\n",
       "0                Ernest Tidyman   Oct 9, 1971  Sep 25, 2001      NaN   \n",
       "1  David Cronenberg|Don DeLillo  Aug 17, 2012   Jan 1, 2013        $   \n",
       "2                Allison Anders  Sep 13, 1996  Apr 18, 2000      NaN   \n",
       "\n",
       "  box_office      runtime             studio  \n",
       "0        NaN  104 minutes                NaN  \n",
       "1    600,000  108 minutes  Entertainment One  \n",
       "2        NaN  116 minutes                NaN  "
      ]
     },
     "execution_count": 55,
     "metadata": {},
     "output_type": "execute_result"
    }
   ],
   "source": [
    "# Load the additional Rotten Tomatoes file\n",
    "df_rotten_info = pd.read_csv('data/rt.movie_info.tsv', sep='\\t')\n",
    "df_rotten_info.head(3)"
   ]
  },
  {
   "cell_type": "code",
   "execution_count": 56,
   "metadata": {},
   "outputs": [
    {
     "data": {
      "text/plain": [
       "Index(['id', 'synopsis', 'rating', 'genre', 'director', 'writer',\n",
       "       'theater_date', 'dvd_date', 'currency', 'box_office', 'runtime',\n",
       "       'studio'],\n",
       "      dtype='object')"
      ]
     },
     "execution_count": 56,
     "metadata": {},
     "output_type": "execute_result"
    }
   ],
   "source": [
    "df_rotten_info.columns"
   ]
  },
  {
   "cell_type": "markdown",
   "metadata": {},
   "source": [
    "- `genre`: Categorical film types\n",
    "\n",
    "- `director`: Filmmaker information \n",
    "\n",
    "- `studio` : Production company\n",
    "\n",
    "- `runtime`: Film duration in minutes\n",
    "\n",
    "- `box_office`: Domestic earnings"
   ]
  },
  {
   "cell_type": "code",
   "execution_count": 58,
   "metadata": {},
   "outputs": [
    {
     "data": {
      "text/plain": [
       "(1560, 12)"
      ]
     },
     "execution_count": 58,
     "metadata": {},
     "output_type": "execute_result"
    }
   ],
   "source": [
    "df_rotten_info.shape"
   ]
  },
  {
   "cell_type": "markdown",
   "metadata": {},
   "source": [
    "- Contains 1,560 entries with detailed film metadata\n",
    "- 12 columns including runtime, genre, director, and studio information"
   ]
  },
  {
   "cell_type": "code",
   "execution_count": 60,
   "metadata": {},
   "outputs": [
    {
     "data": {
      "text/plain": [
       "id                 0\n",
       "synopsis          62\n",
       "rating             3\n",
       "genre              8\n",
       "director         199\n",
       "writer           449\n",
       "theater_date     359\n",
       "dvd_date         359\n",
       "currency        1220\n",
       "box_office      1220\n",
       "runtime           30\n",
       "studio          1066\n",
       "dtype: int64"
      ]
     },
     "execution_count": 60,
     "metadata": {},
     "output_type": "execute_result"
    }
   ],
   "source": [
    "df_rotten_info.isna().sum()"
   ]
  },
  {
   "cell_type": "markdown",
   "metadata": {},
   "source": [
    "Key Columns with Missing Values:\n",
    "- `synopsis`: 62 missing (4.0%) - plot descriptions\n",
    "- `director`: 199 missing (12.8%) - filmmaker information\n",
    "- `writer`: 449 missing (28.8%) - screenwriter credits\n",
    "- `theater_date`: 359 missing (23.0%) - theatrical release dates\n",
    "- `dvd_date`: 359 missing (23.0%) - home media release dates\n",
    "- `currency`: 1,220 missing (78.2%) - money unit (USD, etc.)\n",
    "- `box_office`: 1,220 missing (78.2%) - domestic earnings\n",
    "- `runtime`: 30 missing (1.9%) - film duration\n",
    "- `studio`: 1,066 missing (68.3%) - production companies"
   ]
  },
  {
   "cell_type": "markdown",
   "metadata": {},
   "source": [
    "### Understanding TheMovieDB Dataset"
   ]
  },
  {
   "cell_type": "code",
   "execution_count": 63,
   "metadata": {},
   "outputs": [
    {
     "data": {
      "text/html": [
       "<div>\n",
       "<style scoped>\n",
       "    .dataframe tbody tr th:only-of-type {\n",
       "        vertical-align: middle;\n",
       "    }\n",
       "\n",
       "    .dataframe tbody tr th {\n",
       "        vertical-align: top;\n",
       "    }\n",
       "\n",
       "    .dataframe thead th {\n",
       "        text-align: right;\n",
       "    }\n",
       "</style>\n",
       "<table border=\"1\" class=\"dataframe\">\n",
       "  <thead>\n",
       "    <tr style=\"text-align: right;\">\n",
       "      <th></th>\n",
       "      <th>Unnamed: 0</th>\n",
       "      <th>genre_ids</th>\n",
       "      <th>id</th>\n",
       "      <th>original_language</th>\n",
       "      <th>original_title</th>\n",
       "      <th>popularity</th>\n",
       "      <th>release_date</th>\n",
       "      <th>title</th>\n",
       "      <th>vote_average</th>\n",
       "      <th>vote_count</th>\n",
       "    </tr>\n",
       "  </thead>\n",
       "  <tbody>\n",
       "    <tr>\n",
       "      <th>0</th>\n",
       "      <td>0</td>\n",
       "      <td>[12, 14, 10751]</td>\n",
       "      <td>12444</td>\n",
       "      <td>en</td>\n",
       "      <td>Harry Potter and the Deathly Hallows: Part 1</td>\n",
       "      <td>33.533</td>\n",
       "      <td>2010-11-19</td>\n",
       "      <td>Harry Potter and the Deathly Hallows: Part 1</td>\n",
       "      <td>7.7</td>\n",
       "      <td>10788</td>\n",
       "    </tr>\n",
       "    <tr>\n",
       "      <th>1</th>\n",
       "      <td>1</td>\n",
       "      <td>[14, 12, 16, 10751]</td>\n",
       "      <td>10191</td>\n",
       "      <td>en</td>\n",
       "      <td>How to Train Your Dragon</td>\n",
       "      <td>28.734</td>\n",
       "      <td>2010-03-26</td>\n",
       "      <td>How to Train Your Dragon</td>\n",
       "      <td>7.7</td>\n",
       "      <td>7610</td>\n",
       "    </tr>\n",
       "    <tr>\n",
       "      <th>2</th>\n",
       "      <td>2</td>\n",
       "      <td>[12, 28, 878]</td>\n",
       "      <td>10138</td>\n",
       "      <td>en</td>\n",
       "      <td>Iron Man 2</td>\n",
       "      <td>28.515</td>\n",
       "      <td>2010-05-07</td>\n",
       "      <td>Iron Man 2</td>\n",
       "      <td>6.8</td>\n",
       "      <td>12368</td>\n",
       "    </tr>\n",
       "  </tbody>\n",
       "</table>\n",
       "</div>"
      ],
      "text/plain": [
       "   Unnamed: 0            genre_ids     id original_language  \\\n",
       "0           0      [12, 14, 10751]  12444                en   \n",
       "1           1  [14, 12, 16, 10751]  10191                en   \n",
       "2           2        [12, 28, 878]  10138                en   \n",
       "\n",
       "                                 original_title  popularity release_date  \\\n",
       "0  Harry Potter and the Deathly Hallows: Part 1      33.533   2010-11-19   \n",
       "1                      How to Train Your Dragon      28.734   2010-03-26   \n",
       "2                                    Iron Man 2      28.515   2010-05-07   \n",
       "\n",
       "                                          title  vote_average  vote_count  \n",
       "0  Harry Potter and the Deathly Hallows: Part 1           7.7       10788  \n",
       "1                      How to Train Your Dragon           7.7        7610  \n",
       "2                                    Iron Man 2           6.8       12368  "
      ]
     },
     "execution_count": 63,
     "metadata": {},
     "output_type": "execute_result"
    }
   ],
   "source": [
    "# Load TheMovieDB data\n",
    "df_tmdb = pd.read_csv('data/tmdb.movies.csv')\n",
    "df_tmdb.head(3)"
   ]
  },
  {
   "cell_type": "markdown",
   "metadata": {},
   "source": [
    "key columns:\n",
    "- `popularity`: TMDB's proprietary score\n",
    "- `vote_average`: User rating (0-10 scale)\n",
    "- `vote_count`: Number of user rating"
   ]
  },
  {
   "cell_type": "code",
   "execution_count": 65,
   "metadata": {},
   "outputs": [
    {
     "data": {
      "text/plain": [
       "(26517, 10)"
      ]
     },
     "execution_count": 65,
     "metadata": {},
     "output_type": "execute_result"
    }
   ],
   "source": [
    "df_tmdb.shape"
   ]
  },
  {
   "cell_type": "markdown",
   "metadata": {},
   "source": [
    "- Covers 26,000+ films"
   ]
  },
  {
   "cell_type": "code",
   "execution_count": 67,
   "metadata": {},
   "outputs": [
    {
     "name": "stdout",
     "output_type": "stream",
     "text": [
      "<class 'pandas.core.frame.DataFrame'>\n",
      "RangeIndex: 26517 entries, 0 to 26516\n",
      "Data columns (total 10 columns):\n",
      " #   Column             Non-Null Count  Dtype  \n",
      "---  ------             --------------  -----  \n",
      " 0   Unnamed: 0         26517 non-null  int64  \n",
      " 1   genre_ids          26517 non-null  object \n",
      " 2   id                 26517 non-null  int64  \n",
      " 3   original_language  26517 non-null  object \n",
      " 4   original_title     26517 non-null  object \n",
      " 5   popularity         26517 non-null  float64\n",
      " 6   release_date       26517 non-null  object \n",
      " 7   title              26517 non-null  object \n",
      " 8   vote_average       26517 non-null  float64\n",
      " 9   vote_count         26517 non-null  int64  \n",
      "dtypes: float64(2), int64(3), object(5)\n",
      "memory usage: 2.0+ MB\n"
     ]
    }
   ],
   "source": [
    "df_tmdb.info()"
   ]
  },
  {
   "cell_type": "code",
   "execution_count": 68,
   "metadata": {},
   "outputs": [
    {
     "data": {
      "text/html": [
       "<div>\n",
       "<style scoped>\n",
       "    .dataframe tbody tr th:only-of-type {\n",
       "        vertical-align: middle;\n",
       "    }\n",
       "\n",
       "    .dataframe tbody tr th {\n",
       "        vertical-align: top;\n",
       "    }\n",
       "\n",
       "    .dataframe thead th {\n",
       "        text-align: right;\n",
       "    }\n",
       "</style>\n",
       "<table border=\"1\" class=\"dataframe\">\n",
       "  <thead>\n",
       "    <tr style=\"text-align: right;\">\n",
       "      <th></th>\n",
       "      <th>popularity</th>\n",
       "      <th>vote_average</th>\n",
       "    </tr>\n",
       "  </thead>\n",
       "  <tbody>\n",
       "    <tr>\n",
       "      <th>count</th>\n",
       "      <td>26517.000000</td>\n",
       "      <td>26517.000000</td>\n",
       "    </tr>\n",
       "    <tr>\n",
       "      <th>mean</th>\n",
       "      <td>3.130912</td>\n",
       "      <td>5.991281</td>\n",
       "    </tr>\n",
       "    <tr>\n",
       "      <th>std</th>\n",
       "      <td>4.355229</td>\n",
       "      <td>1.852946</td>\n",
       "    </tr>\n",
       "    <tr>\n",
       "      <th>min</th>\n",
       "      <td>0.600000</td>\n",
       "      <td>0.000000</td>\n",
       "    </tr>\n",
       "    <tr>\n",
       "      <th>25%</th>\n",
       "      <td>0.600000</td>\n",
       "      <td>5.000000</td>\n",
       "    </tr>\n",
       "    <tr>\n",
       "      <th>50%</th>\n",
       "      <td>1.374000</td>\n",
       "      <td>6.000000</td>\n",
       "    </tr>\n",
       "    <tr>\n",
       "      <th>75%</th>\n",
       "      <td>3.694000</td>\n",
       "      <td>7.000000</td>\n",
       "    </tr>\n",
       "    <tr>\n",
       "      <th>max</th>\n",
       "      <td>80.773000</td>\n",
       "      <td>10.000000</td>\n",
       "    </tr>\n",
       "  </tbody>\n",
       "</table>\n",
       "</div>"
      ],
      "text/plain": [
       "         popularity  vote_average\n",
       "count  26517.000000  26517.000000\n",
       "mean       3.130912      5.991281\n",
       "std        4.355229      1.852946\n",
       "min        0.600000      0.000000\n",
       "25%        0.600000      5.000000\n",
       "50%        1.374000      6.000000\n",
       "75%        3.694000      7.000000\n",
       "max       80.773000     10.000000"
      ]
     },
     "execution_count": 68,
     "metadata": {},
     "output_type": "execute_result"
    }
   ],
   "source": [
    "df_tmdb.describe()[['popularity', 'vote_average']]"
   ]
  },
  {
   "cell_type": "markdown",
   "metadata": {},
   "source": [
    "#### Conclusion\n",
    "- Has 26,517 movies with complete popularity and vote metrics. \n",
    "- Popularity algorithm is not directly related with financial success.\n",
    "- Provides good and complete audience data but not usable for analysis especially profit analysis"
   ]
  },
  {
   "cell_type": "markdown",
   "metadata": {},
   "source": [
    "# Data Preparation"
   ]
  },
  {
   "cell_type": "markdown",
   "metadata": {},
   "source": [
    "## Dataset Selection\n",
    "\n",
    "We are using:\n",
    "- **The Numbers (CSV)**: Contains production budgets, domestic and worldwide gross earnings, and release dates (with month and day) for over 5,000 films. This allows us to calculate profit and ROI, and to extract release months for seasonal analysis.\n",
    "- **IMDB (SQLite)**: Provides genre classifications and director information, enabling us to categorize films by type and identify successful talent.\n",
    "  \n",
    "We are excluding:\n",
    "- **Box Office Mojo**: While it contains domestic gross and studio information, its financial data is redundant with The Numbers (which also includes worldwide gross) and it lacks detailed release dates (only year). This would add no unique value for our objectives.\n",
    "- **Rotten Tomatoes** and **TheMovieDB**: Their focus on ratings and popularity does not directly address profitability, and they have significant data gaps."
   ]
  },
  {
   "cell_type": "markdown",
   "metadata": {},
   "source": [
    "## Cleaning\n",
    "\n",
    "Will clean each choosen dataset individually."
   ]
  },
  {
   "cell_type": "markdown",
   "metadata": {},
   "source": [
    "### Cleaning The Numbers Dataset"
   ]
  },
  {
   "cell_type": "code",
   "execution_count": 74,
   "metadata": {},
   "outputs": [
    {
     "name": "stdout",
     "output_type": "stream",
     "text": [
      "Original shape: (5782, 6)\n"
     ]
    },
    {
     "data": {
      "text/html": [
       "<div>\n",
       "<style scoped>\n",
       "    .dataframe tbody tr th:only-of-type {\n",
       "        vertical-align: middle;\n",
       "    }\n",
       "\n",
       "    .dataframe tbody tr th {\n",
       "        vertical-align: top;\n",
       "    }\n",
       "\n",
       "    .dataframe thead th {\n",
       "        text-align: right;\n",
       "    }\n",
       "</style>\n",
       "<table border=\"1\" class=\"dataframe\">\n",
       "  <thead>\n",
       "    <tr style=\"text-align: right;\">\n",
       "      <th></th>\n",
       "      <th>id</th>\n",
       "      <th>release_date</th>\n",
       "      <th>movie</th>\n",
       "      <th>production_budget</th>\n",
       "      <th>domestic_gross</th>\n",
       "      <th>worldwide_gross</th>\n",
       "    </tr>\n",
       "  </thead>\n",
       "  <tbody>\n",
       "    <tr>\n",
       "      <th>0</th>\n",
       "      <td>1</td>\n",
       "      <td>2009-12-18</td>\n",
       "      <td>Avatar</td>\n",
       "      <td>$425,000,000</td>\n",
       "      <td>$760,507,625</td>\n",
       "      <td>$2,776,345,279</td>\n",
       "    </tr>\n",
       "    <tr>\n",
       "      <th>1</th>\n",
       "      <td>2</td>\n",
       "      <td>2011-05-20</td>\n",
       "      <td>Pirates of the Caribbean: On Stranger Tides</td>\n",
       "      <td>$410,600,000</td>\n",
       "      <td>$241,063,875</td>\n",
       "      <td>$1,045,663,875</td>\n",
       "    </tr>\n",
       "    <tr>\n",
       "      <th>2</th>\n",
       "      <td>3</td>\n",
       "      <td>2019-06-07</td>\n",
       "      <td>Dark Phoenix</td>\n",
       "      <td>$350,000,000</td>\n",
       "      <td>$42,762,350</td>\n",
       "      <td>$149,762,350</td>\n",
       "    </tr>\n",
       "  </tbody>\n",
       "</table>\n",
       "</div>"
      ],
      "text/plain": [
       "   id release_date                                        movie  \\\n",
       "0   1   2009-12-18                                       Avatar   \n",
       "1   2   2011-05-20  Pirates of the Caribbean: On Stranger Tides   \n",
       "2   3   2019-06-07                                 Dark Phoenix   \n",
       "\n",
       "  production_budget domestic_gross worldwide_gross  \n",
       "0      $425,000,000   $760,507,625  $2,776,345,279  \n",
       "1      $410,600,000   $241,063,875  $1,045,663,875  \n",
       "2      $350,000,000    $42,762,350    $149,762,350  "
      ]
     },
     "execution_count": 74,
     "metadata": {},
     "output_type": "execute_result"
    }
   ],
   "source": [
    "print('Original shape:', df_budget.shape)\n",
    "df_budget.head(3)"
   ]
  },
  {
   "cell_type": "code",
   "execution_count": 75,
   "metadata": {},
   "outputs": [
    {
     "name": "stdout",
     "output_type": "stream",
     "text": [
      "id                            int64\n",
      "release_date         datetime64[ns]\n",
      "movie                        object\n",
      "production_budget            object\n",
      "domestic_gross               object\n",
      "worldwide_gross              object\n",
      "dtype: object\n"
     ]
    }
   ],
   "source": [
    "print(df_budget.dtypes)"
   ]
  },
  {
   "cell_type": "code",
   "execution_count": 76,
   "metadata": {},
   "outputs": [],
   "source": [
    "# Clean currency columns $110,000,000 → 110000000\n",
    "# used for loop to avoid redundant code\n",
    "currency_cols = ['production_budget', 'domestic_gross', 'worldwide_gross']\n",
    "for col in currency_cols:\n",
    "    df_budget[col] = (\n",
    "        df_budget[col]\n",
    "        .str.replace('$', '', regex=False)  \n",
    "        .str.replace(',', '', regex=False)   \n",
    "        .astype('int64')                         \n",
    "    )"
   ]
  },
  {
   "cell_type": "markdown",
   "metadata": {},
   "source": [
    "Values stored as strings $\\$110,000,000$ I removed \\$ and , then converted to integers to enable calculations"
   ]
  },
  {
   "cell_type": "code",
   "execution_count": 78,
   "metadata": {},
   "outputs": [],
   "source": [
    "# convertion to datetime\n",
    "df_budget['release_date'] = pd.to_datetime(df_budget['release_date'], format='%b %d, %Y')"
   ]
  },
  {
   "cell_type": "markdown",
   "metadata": {},
   "source": [
    "Dates in a string format (\"Dec 18, 2009\"), so I Converted to datetime to allow month extraction for time analysis, which month to release movies"
   ]
  },
  {
   "cell_type": "code",
   "execution_count": 80,
   "metadata": {},
   "outputs": [],
   "source": [
    "# Filter valid financial records\n",
    "df_budget = df_budget[(df_budget['production_budget'] > 1000) & (df_budget['worldwide_gross'] > 0) & (df_budget['release_date'] >= '2010-01-01')]"
   ]
  },
  {
   "cell_type": "markdown",
   "metadata": {},
   "source": [
    "The raw data included films with $\\$0$ gross or pre-2010 data so I filtered off budgets that are less than $\\$1,000$, those that have \n",
    "**negative gross**\n",
    "and I kept post-2010 data\n",
    "\n",
    "So as to focus on relevant, quality data for today's market"
   ]
  },
  {
   "cell_type": "code",
   "execution_count": 82,
   "metadata": {},
   "outputs": [],
   "source": [
    "# Add release year for merging\n",
    "df_budget['release_year'] = df_budget['release_date'].dt.year"
   ]
  },
  {
   "cell_type": "code",
   "execution_count": 83,
   "metadata": {},
   "outputs": [],
   "source": [
    "\n",
    "# Clean movie titles\n",
    "df_budget['movie_clean'] = (df_budget['movie'].str.lower().str.replace(r'[^\\w\\s]', '', regex=True) ) # Remove punctuation, Convert to lowercase"
   ]
  },
  {
   "cell_type": "markdown",
   "metadata": {},
   "source": [
    "Titles had punctions like \"Avengers: Endgame\" vs \"Avengers, The\" so I converted them to lowercase and removed punctuation\n",
    "\n",
    "so as improve merging with IMDB"
   ]
  },
  {
   "cell_type": "code",
   "execution_count": 85,
   "metadata": {},
   "outputs": [
    {
     "name": "stdout",
     "output_type": "stream",
     "text": [
      "New shape: (1922, 8)\n",
      "Data types:\n",
      " id                            int64\n",
      "release_date         datetime64[ns]\n",
      "movie                        object\n",
      "production_budget             int64\n",
      "domestic_gross                int64\n",
      "worldwide_gross               int64\n",
      "release_year                  int32\n",
      "movie_clean                  object\n",
      "dtype: object\n"
     ]
    },
    {
     "data": {
      "text/html": [
       "<div>\n",
       "<style scoped>\n",
       "    .dataframe tbody tr th:only-of-type {\n",
       "        vertical-align: middle;\n",
       "    }\n",
       "\n",
       "    .dataframe tbody tr th {\n",
       "        vertical-align: top;\n",
       "    }\n",
       "\n",
       "    .dataframe thead th {\n",
       "        text-align: right;\n",
       "    }\n",
       "</style>\n",
       "<table border=\"1\" class=\"dataframe\">\n",
       "  <thead>\n",
       "    <tr style=\"text-align: right;\">\n",
       "      <th></th>\n",
       "      <th>id</th>\n",
       "      <th>release_date</th>\n",
       "      <th>movie</th>\n",
       "      <th>production_budget</th>\n",
       "      <th>domestic_gross</th>\n",
       "      <th>worldwide_gross</th>\n",
       "      <th>release_year</th>\n",
       "      <th>movie_clean</th>\n",
       "    </tr>\n",
       "  </thead>\n",
       "  <tbody>\n",
       "    <tr>\n",
       "      <th>1</th>\n",
       "      <td>2</td>\n",
       "      <td>2011-05-20</td>\n",
       "      <td>Pirates of the Caribbean: On Stranger Tides</td>\n",
       "      <td>410600000</td>\n",
       "      <td>241063875</td>\n",
       "      <td>1045663875</td>\n",
       "      <td>2011</td>\n",
       "      <td>pirates of the caribbean on stranger tides</td>\n",
       "    </tr>\n",
       "    <tr>\n",
       "      <th>2</th>\n",
       "      <td>3</td>\n",
       "      <td>2019-06-07</td>\n",
       "      <td>Dark Phoenix</td>\n",
       "      <td>350000000</td>\n",
       "      <td>42762350</td>\n",
       "      <td>149762350</td>\n",
       "      <td>2019</td>\n",
       "      <td>dark phoenix</td>\n",
       "    </tr>\n",
       "    <tr>\n",
       "      <th>3</th>\n",
       "      <td>4</td>\n",
       "      <td>2015-05-01</td>\n",
       "      <td>Avengers: Age of Ultron</td>\n",
       "      <td>330600000</td>\n",
       "      <td>459005868</td>\n",
       "      <td>1403013963</td>\n",
       "      <td>2015</td>\n",
       "      <td>avengers age of ultron</td>\n",
       "    </tr>\n",
       "  </tbody>\n",
       "</table>\n",
       "</div>"
      ],
      "text/plain": [
       "   id release_date                                        movie  \\\n",
       "1   2   2011-05-20  Pirates of the Caribbean: On Stranger Tides   \n",
       "2   3   2019-06-07                                 Dark Phoenix   \n",
       "3   4   2015-05-01                      Avengers: Age of Ultron   \n",
       "\n",
       "   production_budget  domestic_gross  worldwide_gross  release_year  \\\n",
       "1          410600000       241063875       1045663875          2011   \n",
       "2          350000000        42762350        149762350          2019   \n",
       "3          330600000       459005868       1403013963          2015   \n",
       "\n",
       "                                  movie_clean  \n",
       "1  pirates of the caribbean on stranger tides  \n",
       "2                                dark phoenix  \n",
       "3                      avengers age of ultron  "
      ]
     },
     "execution_count": 85,
     "metadata": {},
     "output_type": "execute_result"
    }
   ],
   "source": [
    "print(\"New shape:\", df_budget.shape)\n",
    "print(\"Data types:\\n\", df_budget.dtypes)\n",
    "df_budget.head(3)"
   ]
  },
  {
   "cell_type": "markdown",
   "metadata": {},
   "source": [
    "The dataset is now clean with:\n",
    "\n",
    "- Numeric budgets/gross to do finacial calculations later.\n",
    "- Standardized dates so as to know when to release movies\n",
    "- Relevant films only 2010 with valid coumns\n",
    "\n",
    "Original: 5,782 films to Cleaned: 1922 films\n",
    "\n",
    "**Note:**\n",
    "The Numbers dataset contains zero null values across all columns. This was confirmed during initial exploring"
   ]
  },
  {
   "cell_type": "markdown",
   "metadata": {},
   "source": [
    "### Cleaning IMDB Dataset"
   ]
  },
  {
   "cell_type": "code",
   "execution_count": 88,
   "metadata": {},
   "outputs": [
    {
     "name": "stdout",
     "output_type": "stream",
     "text": [
      "Original movies shape: (146144, 6)\n"
     ]
    },
    {
     "data": {
      "text/html": [
       "<div>\n",
       "<style scoped>\n",
       "    .dataframe tbody tr th:only-of-type {\n",
       "        vertical-align: middle;\n",
       "    }\n",
       "\n",
       "    .dataframe tbody tr th {\n",
       "        vertical-align: top;\n",
       "    }\n",
       "\n",
       "    .dataframe thead th {\n",
       "        text-align: right;\n",
       "    }\n",
       "</style>\n",
       "<table border=\"1\" class=\"dataframe\">\n",
       "  <thead>\n",
       "    <tr style=\"text-align: right;\">\n",
       "      <th></th>\n",
       "      <th>movie_id</th>\n",
       "      <th>primary_title</th>\n",
       "      <th>original_title</th>\n",
       "      <th>start_year</th>\n",
       "      <th>runtime_minutes</th>\n",
       "      <th>genres</th>\n",
       "    </tr>\n",
       "  </thead>\n",
       "  <tbody>\n",
       "    <tr>\n",
       "      <th>0</th>\n",
       "      <td>tt0063540</td>\n",
       "      <td>Sunghursh</td>\n",
       "      <td>Sunghursh</td>\n",
       "      <td>2013</td>\n",
       "      <td>175.0</td>\n",
       "      <td>Action,Crime,Drama</td>\n",
       "    </tr>\n",
       "    <tr>\n",
       "      <th>1</th>\n",
       "      <td>tt0066787</td>\n",
       "      <td>One Day Before the Rainy Season</td>\n",
       "      <td>Ashad Ka Ek Din</td>\n",
       "      <td>2019</td>\n",
       "      <td>114.0</td>\n",
       "      <td>Biography,Drama</td>\n",
       "    </tr>\n",
       "    <tr>\n",
       "      <th>2</th>\n",
       "      <td>tt0069049</td>\n",
       "      <td>The Other Side of the Wind</td>\n",
       "      <td>The Other Side of the Wind</td>\n",
       "      <td>2018</td>\n",
       "      <td>122.0</td>\n",
       "      <td>Drama</td>\n",
       "    </tr>\n",
       "  </tbody>\n",
       "</table>\n",
       "</div>"
      ],
      "text/plain": [
       "    movie_id                    primary_title              original_title  \\\n",
       "0  tt0063540                        Sunghursh                   Sunghursh   \n",
       "1  tt0066787  One Day Before the Rainy Season             Ashad Ka Ek Din   \n",
       "2  tt0069049       The Other Side of the Wind  The Other Side of the Wind   \n",
       "\n",
       "   start_year  runtime_minutes              genres  \n",
       "0        2013            175.0  Action,Crime,Drama  \n",
       "1        2019            114.0     Biography,Drama  \n",
       "2        2018            122.0               Drama  "
      ]
     },
     "execution_count": 88,
     "metadata": {},
     "output_type": "execute_result"
    }
   ],
   "source": [
    "# Clean movie_basics table (genres)\n",
    "movies = pd.read_sql(\"SELECT * FROM movie_basics\", conn)\n",
    "print('Original movies shape:', movies.shape)\n",
    "movies.head(3)"
   ]
  },
  {
   "cell_type": "code",
   "execution_count": 89,
   "metadata": {},
   "outputs": [
    {
     "name": "stdout",
     "output_type": "stream",
     "text": [
      "After removing null genres: (140736, 6)\n"
     ]
    }
   ],
   "source": [
    "# Handle null genres\n",
    "movies = movies.dropna(subset=['genres'])  # Remove films without genres\n",
    "print('After removing null genres:', movies.shape)"
   ]
  },
  {
   "cell_type": "markdown",
   "metadata": {},
   "source": [
    "From our initial exploration we saw that 5408 movies (3.70%) had null genres as it is a small percentage I would remove them entirely\n",
    "\n",
    "because genre is essential for our analysis, we cannot guess genres"
   ]
  },
  {
   "cell_type": "code",
   "execution_count": 91,
   "metadata": {},
   "outputs": [],
   "source": [
    "# Extract main genre the first in comma-separated list\n",
    "movies['main_genre'] = (movies['genres'].str.split(',').str[0]) # Take first genre only"
   ]
  },
  {
   "cell_type": "markdown",
   "metadata": {},
   "source": [
    "Genres are stored as comma-separated lists (\"Action,Adventure\") so I would take only the first genre as primary category\n",
    "\n",
    "(The first genre is always the main genre of the movie)\n",
    "\n",
    "This simplifies analysis while capturing the main movie type"
   ]
  },
  {
   "cell_type": "code",
   "execution_count": 93,
   "metadata": {},
   "outputs": [],
   "source": [
    "# Clean titles for merging\n",
    "movies['clean_title'] = (movies['primary_title'].str.lower().str.replace(r'[^\\w\\s]', '', regex=True))"
   ]
  },
  {
   "cell_type": "markdown",
   "metadata": {},
   "source": [
    "Titles had punctuations like \"Avengers: Endgame\" vs \"Avengers, The\" so I converted them to lowercase and removed punctuation\n",
    "\n",
    "for easier merging with IMDB"
   ]
  },
  {
   "cell_type": "code",
   "execution_count": 95,
   "metadata": {},
   "outputs": [
    {
     "name": "stdout",
     "output_type": "stream",
     "text": [
      "2010+ films with genres: 140622\n"
     ]
    }
   ],
   "source": [
    "# Filter for relevance (2010+ films)\n",
    "movies = movies[movies['start_year'] <= 2020]\n",
    "print('2010+ films with genres:', len(movies))"
   ]
  },
  {
   "cell_type": "markdown",
   "metadata": {},
   "source": [
    "As we had seen in earlier data exploring the `start_year` is from 2010 to 2115, the starting point 2010 is good for us as it captures the current market, but we do not need data from 2020 as they are few and limited so I have kept movies that are released from **2010** to **2020**"
   ]
  },
  {
   "cell_type": "code",
   "execution_count": 97,
   "metadata": {},
   "outputs": [
    {
     "data": {
      "text/html": [
       "<div>\n",
       "<style scoped>\n",
       "    .dataframe tbody tr th:only-of-type {\n",
       "        vertical-align: middle;\n",
       "    }\n",
       "\n",
       "    .dataframe tbody tr th {\n",
       "        vertical-align: top;\n",
       "    }\n",
       "\n",
       "    .dataframe thead th {\n",
       "        text-align: right;\n",
       "    }\n",
       "</style>\n",
       "<table border=\"1\" class=\"dataframe\">\n",
       "  <thead>\n",
       "    <tr style=\"text-align: right;\">\n",
       "      <th></th>\n",
       "      <th>movie_id</th>\n",
       "      <th>primary_title</th>\n",
       "      <th>original_title</th>\n",
       "      <th>start_year</th>\n",
       "      <th>runtime_minutes</th>\n",
       "      <th>genres</th>\n",
       "      <th>main_genre</th>\n",
       "      <th>clean_title</th>\n",
       "    </tr>\n",
       "  </thead>\n",
       "  <tbody>\n",
       "    <tr>\n",
       "      <th>0</th>\n",
       "      <td>tt0063540</td>\n",
       "      <td>Sunghursh</td>\n",
       "      <td>Sunghursh</td>\n",
       "      <td>2013</td>\n",
       "      <td>175.0</td>\n",
       "      <td>Action,Crime,Drama</td>\n",
       "      <td>Action</td>\n",
       "      <td>sunghursh</td>\n",
       "    </tr>\n",
       "    <tr>\n",
       "      <th>1</th>\n",
       "      <td>tt0066787</td>\n",
       "      <td>One Day Before the Rainy Season</td>\n",
       "      <td>Ashad Ka Ek Din</td>\n",
       "      <td>2019</td>\n",
       "      <td>114.0</td>\n",
       "      <td>Biography,Drama</td>\n",
       "      <td>Biography</td>\n",
       "      <td>one day before the rainy season</td>\n",
       "    </tr>\n",
       "    <tr>\n",
       "      <th>2</th>\n",
       "      <td>tt0069049</td>\n",
       "      <td>The Other Side of the Wind</td>\n",
       "      <td>The Other Side of the Wind</td>\n",
       "      <td>2018</td>\n",
       "      <td>122.0</td>\n",
       "      <td>Drama</td>\n",
       "      <td>Drama</td>\n",
       "      <td>the other side of the wind</td>\n",
       "    </tr>\n",
       "  </tbody>\n",
       "</table>\n",
       "</div>"
      ],
      "text/plain": [
       "    movie_id                    primary_title              original_title  \\\n",
       "0  tt0063540                        Sunghursh                   Sunghursh   \n",
       "1  tt0066787  One Day Before the Rainy Season             Ashad Ka Ek Din   \n",
       "2  tt0069049       The Other Side of the Wind  The Other Side of the Wind   \n",
       "\n",
       "   start_year  runtime_minutes              genres main_genre  \\\n",
       "0        2013            175.0  Action,Crime,Drama     Action   \n",
       "1        2019            114.0     Biography,Drama  Biography   \n",
       "2        2018            122.0               Drama      Drama   \n",
       "\n",
       "                       clean_title  \n",
       "0                        sunghursh  \n",
       "1  one day before the rainy season  \n",
       "2       the other side of the wind  "
      ]
     },
     "execution_count": 97,
     "metadata": {},
     "output_type": "execute_result"
    }
   ],
   "source": [
    "movies.head(3)"
   ]
  },
  {
   "cell_type": "code",
   "execution_count": 98,
   "metadata": {},
   "outputs": [
    {
     "name": "stdout",
     "output_type": "stream",
     "text": [
      "Directors count: 291171\n"
     ]
    },
    {
     "data": {
      "text/html": [
       "<div>\n",
       "<style scoped>\n",
       "    .dataframe tbody tr th:only-of-type {\n",
       "        vertical-align: middle;\n",
       "    }\n",
       "\n",
       "    .dataframe tbody tr th {\n",
       "        vertical-align: top;\n",
       "    }\n",
       "\n",
       "    .dataframe thead th {\n",
       "        text-align: right;\n",
       "    }\n",
       "</style>\n",
       "<table border=\"1\" class=\"dataframe\">\n",
       "  <thead>\n",
       "    <tr style=\"text-align: right;\">\n",
       "      <th></th>\n",
       "      <th>movie_id</th>\n",
       "      <th>director</th>\n",
       "    </tr>\n",
       "  </thead>\n",
       "  <tbody>\n",
       "    <tr>\n",
       "      <th>0</th>\n",
       "      <td>tt1592569</td>\n",
       "      <td>Ruel S. Bayani</td>\n",
       "    </tr>\n",
       "    <tr>\n",
       "      <th>1</th>\n",
       "      <td>tt1592569</td>\n",
       "      <td>Ruel S. Bayani</td>\n",
       "    </tr>\n",
       "    <tr>\n",
       "      <th>2</th>\n",
       "      <td>tt1592569</td>\n",
       "      <td>Ruel S. Bayani</td>\n",
       "    </tr>\n",
       "    <tr>\n",
       "      <th>3</th>\n",
       "      <td>tt1592569</td>\n",
       "      <td>Ruel S. Bayani</td>\n",
       "    </tr>\n",
       "    <tr>\n",
       "      <th>4</th>\n",
       "      <td>tt2057445</td>\n",
       "      <td>Ruel S. Bayani</td>\n",
       "    </tr>\n",
       "  </tbody>\n",
       "</table>\n",
       "</div>"
      ],
      "text/plain": [
       "    movie_id        director\n",
       "0  tt1592569  Ruel S. Bayani\n",
       "1  tt1592569  Ruel S. Bayani\n",
       "2  tt1592569  Ruel S. Bayani\n",
       "3  tt1592569  Ruel S. Bayani\n",
       "4  tt2057445  Ruel S. Bayani"
      ]
     },
     "execution_count": 98,
     "metadata": {},
     "output_type": "execute_result"
    }
   ],
   "source": [
    "# Clean directors data\n",
    "# Get directors (join with persons table)\n",
    "directors = pd.read_sql(\"\"\"\n",
    "                            SELECT d.movie_id, p.primary_name AS director\n",
    "                            FROM directors d\n",
    "                            JOIN persons p \n",
    "                            ON d.person_id = p.person_id\n",
    "                            WHERE p.primary_name IS NOT NULL\n",
    "                        \"\"\", conn)\n",
    "print(\"Directors count:\", len(directors))\n",
    "directors.head(5)"
   ]
  },
  {
   "cell_type": "markdown",
   "metadata": {},
   "source": [
    "Some director entries lacked names so I used WHERE and IS NOT NULL to remove null primary_name so as to have directors with names for identification and easier analysis\n",
    "\n",
    "Also I have noticed duplicates of pairs of movie_id and directors, I will delete this duplicates this will help me later in which director to recommend analysis"
   ]
  },
  {
   "cell_type": "code",
   "execution_count": 100,
   "metadata": {},
   "outputs": [],
   "source": [
    "directors['director_clean'] = (directors['director'].str.lower())"
   ]
  },
  {
   "cell_type": "code",
   "execution_count": 101,
   "metadata": {},
   "outputs": [],
   "source": [
    "# 2. Remove duplicate director-film pairs\n",
    "directors = directors.drop_duplicates(subset=['movie_id', 'director_clean'])"
   ]
  },
  {
   "cell_type": "code",
   "execution_count": 102,
   "metadata": {},
   "outputs": [
    {
     "name": "stdout",
     "output_type": "stream",
     "text": [
      "main_genre\n",
      "Documentary    41605\n",
      "Drama          31329\n",
      "Comedy         21503\n",
      "Action         10293\n",
      "Biography       8019\n",
      "Name: count, dtype: int64\n"
     ]
    },
    {
     "data": {
      "text/html": [
       "<div>\n",
       "<style scoped>\n",
       "    .dataframe tbody tr th:only-of-type {\n",
       "        vertical-align: middle;\n",
       "    }\n",
       "\n",
       "    .dataframe tbody tr th {\n",
       "        vertical-align: top;\n",
       "    }\n",
       "\n",
       "    .dataframe thead th {\n",
       "        text-align: right;\n",
       "    }\n",
       "</style>\n",
       "<table border=\"1\" class=\"dataframe\">\n",
       "  <thead>\n",
       "    <tr style=\"text-align: right;\">\n",
       "      <th></th>\n",
       "      <th>movie_id</th>\n",
       "      <th>director</th>\n",
       "      <th>director_clean</th>\n",
       "    </tr>\n",
       "  </thead>\n",
       "  <tbody>\n",
       "    <tr>\n",
       "      <th>0</th>\n",
       "      <td>tt1592569</td>\n",
       "      <td>Ruel S. Bayani</td>\n",
       "      <td>ruel s. bayani</td>\n",
       "    </tr>\n",
       "    <tr>\n",
       "      <th>4</th>\n",
       "      <td>tt2057445</td>\n",
       "      <td>Ruel S. Bayani</td>\n",
       "      <td>ruel s. bayani</td>\n",
       "    </tr>\n",
       "    <tr>\n",
       "      <th>7</th>\n",
       "      <td>tt2590280</td>\n",
       "      <td>Ruel S. Bayani</td>\n",
       "      <td>ruel s. bayani</td>\n",
       "    </tr>\n",
       "    <tr>\n",
       "      <th>8</th>\n",
       "      <td>tt8421806</td>\n",
       "      <td>Ruel S. Bayani</td>\n",
       "      <td>ruel s. bayani</td>\n",
       "    </tr>\n",
       "    <tr>\n",
       "      <th>10</th>\n",
       "      <td>tt3501180</td>\n",
       "      <td>Bryan Beasley</td>\n",
       "      <td>bryan beasley</td>\n",
       "    </tr>\n",
       "    <tr>\n",
       "      <th>11</th>\n",
       "      <td>tt4512140</td>\n",
       "      <td>Bryan Beasley</td>\n",
       "      <td>bryan beasley</td>\n",
       "    </tr>\n",
       "    <tr>\n",
       "      <th>12</th>\n",
       "      <td>tt5521860</td>\n",
       "      <td>Steve Mitchell Beebe</td>\n",
       "      <td>steve mitchell beebe</td>\n",
       "    </tr>\n",
       "    <tr>\n",
       "      <th>13</th>\n",
       "      <td>tt2098699</td>\n",
       "      <td>Hans Beimler</td>\n",
       "      <td>hans beimler</td>\n",
       "    </tr>\n",
       "    <tr>\n",
       "      <th>14</th>\n",
       "      <td>tt7701650</td>\n",
       "      <td>Hava Kohav Beller</td>\n",
       "      <td>hava kohav beller</td>\n",
       "    </tr>\n",
       "    <tr>\n",
       "      <th>15</th>\n",
       "      <td>tt1016090</td>\n",
       "      <td>Joel Bender</td>\n",
       "      <td>joel bender</td>\n",
       "    </tr>\n",
       "    <tr>\n",
       "      <th>16</th>\n",
       "      <td>tt3790232</td>\n",
       "      <td>Joel Bender</td>\n",
       "      <td>joel bender</td>\n",
       "    </tr>\n",
       "    <tr>\n",
       "      <th>18</th>\n",
       "      <td>tt2028530</td>\n",
       "      <td>Joe Berlinger</td>\n",
       "      <td>joe berlinger</td>\n",
       "    </tr>\n",
       "  </tbody>\n",
       "</table>\n",
       "</div>"
      ],
      "text/plain": [
       "     movie_id              director        director_clean\n",
       "0   tt1592569        Ruel S. Bayani        ruel s. bayani\n",
       "4   tt2057445        Ruel S. Bayani        ruel s. bayani\n",
       "7   tt2590280        Ruel S. Bayani        ruel s. bayani\n",
       "8   tt8421806        Ruel S. Bayani        ruel s. bayani\n",
       "10  tt3501180         Bryan Beasley         bryan beasley\n",
       "11  tt4512140         Bryan Beasley         bryan beasley\n",
       "12  tt5521860  Steve Mitchell Beebe  steve mitchell beebe\n",
       "13  tt2098699          Hans Beimler          hans beimler\n",
       "14  tt7701650     Hava Kohav Beller     hava kohav beller\n",
       "15  tt1016090           Joel Bender           joel bender\n",
       "16  tt3790232           Joel Bender           joel bender\n",
       "18  tt2028530         Joe Berlinger         joe berlinger"
      ]
     },
     "execution_count": 102,
     "metadata": {},
     "output_type": "execute_result"
    }
   ],
   "source": [
    "print(movies['main_genre'].value_counts().head(5))\n",
    "\n",
    "directors.head(12)"
   ]
  },
  {
   "cell_type": "markdown",
   "metadata": {},
   "source": [
    "## Merging Data"
   ]
  },
  {
   "cell_type": "markdown",
   "metadata": {},
   "source": [
    " After cleaning we have three dataframes and these are the important columns to use:\n",
    " - `df_budget`: contains `movie_clean`, `release_year`, and other financial columns.\n",
    " - `movies`: contains `clean_title`, `start_year`  and `movie_id`.\n",
    " - `directors`: contains `movie_id` and `director_clean`.\n",
    "\n",
    "I will merge the three dataframe into one:\n",
    "- The first merging `df_budget` and `movies` I will use inner join so as to capture movies with both financial and genre data\n",
    "- The second merging will be between the first merging and `directors`, I will use left join so as to preserve the movies on our first merged df if they do not have a match on the `directors` dataframe\n",
    "\n",
    "In the first merge I will use `movie_clean` , `release_year` (in `df_budget`)and `clean_title` , `start_year`(in `movies`) to merge:\n",
    "- `Movie_clean` and `clean_title` will help merge movies with the same names on the two dataframes\n",
    "- `release_year` and `start_year` will help us avoid mismatches if there are movies that have the same name but released on different years\n",
    "\n",
    "In the second merge I will use `movie_id` this is in both dataframes so it will be simpler\n",
    "\n",
    "**NOTE:**\n",
    "There will be duplication of movies name in the final dataframe this happens when we do the second merging with the `director`. We will do a left merge from the movie financials+genres (one row per movie) to the directors table (multiple rows per movie). So each movie will have multiple rows. I will deal with it"
   ]
  },
  {
   "cell_type": "code",
   "execution_count": 105,
   "metadata": {},
   "outputs": [
    {
     "name": "stdout",
     "output_type": "stream",
     "text": [
      "Numbers of movies that merged + genres: 1475\n"
     ]
    }
   ],
   "source": [
    "# 1. Merge The Numbers (finance) with IMDB (genres)\n",
    "\n",
    "merged_genres = pd.merge(df_budget, movies, left_on=['movie_clean', 'release_year'],right_on=['clean_title', 'start_year'],how='inner')\n",
    "\n",
    "print(f'Numbers of movies that merged + genres: {len(merged_genres)}')"
   ]
  },
  {
   "cell_type": "markdown",
   "metadata": {},
   "source": [
    "Used inner join to join `df_budget` and `movies` so as to only capture movies that have both financial data and genres, this will be important in analysis of profit of  genres"
   ]
  },
  {
   "cell_type": "code",
   "execution_count": 107,
   "metadata": {},
   "outputs": [
    {
     "data": {
      "text/html": [
       "<div>\n",
       "<style scoped>\n",
       "    .dataframe tbody tr th:only-of-type {\n",
       "        vertical-align: middle;\n",
       "    }\n",
       "\n",
       "    .dataframe tbody tr th {\n",
       "        vertical-align: top;\n",
       "    }\n",
       "\n",
       "    .dataframe thead th {\n",
       "        text-align: right;\n",
       "    }\n",
       "</style>\n",
       "<table border=\"1\" class=\"dataframe\">\n",
       "  <thead>\n",
       "    <tr style=\"text-align: right;\">\n",
       "      <th></th>\n",
       "      <th>id</th>\n",
       "      <th>release_date</th>\n",
       "      <th>movie</th>\n",
       "      <th>production_budget</th>\n",
       "      <th>domestic_gross</th>\n",
       "      <th>worldwide_gross</th>\n",
       "      <th>release_year</th>\n",
       "      <th>movie_clean</th>\n",
       "      <th>movie_id</th>\n",
       "      <th>primary_title</th>\n",
       "      <th>original_title</th>\n",
       "      <th>start_year</th>\n",
       "      <th>runtime_minutes</th>\n",
       "      <th>genres</th>\n",
       "      <th>main_genre</th>\n",
       "      <th>clean_title</th>\n",
       "    </tr>\n",
       "  </thead>\n",
       "  <tbody>\n",
       "    <tr>\n",
       "      <th>0</th>\n",
       "      <td>2</td>\n",
       "      <td>2011-05-20</td>\n",
       "      <td>Pirates of the Caribbean: On Stranger Tides</td>\n",
       "      <td>410600000</td>\n",
       "      <td>241063875</td>\n",
       "      <td>1045663875</td>\n",
       "      <td>2011</td>\n",
       "      <td>pirates of the caribbean on stranger tides</td>\n",
       "      <td>tt1298650</td>\n",
       "      <td>Pirates of the Caribbean: On Stranger Tides</td>\n",
       "      <td>Pirates of the Caribbean: On Stranger Tides</td>\n",
       "      <td>2011</td>\n",
       "      <td>136.0</td>\n",
       "      <td>Action,Adventure,Fantasy</td>\n",
       "      <td>Action</td>\n",
       "      <td>pirates of the caribbean on stranger tides</td>\n",
       "    </tr>\n",
       "    <tr>\n",
       "      <th>1</th>\n",
       "      <td>3</td>\n",
       "      <td>2019-06-07</td>\n",
       "      <td>Dark Phoenix</td>\n",
       "      <td>350000000</td>\n",
       "      <td>42762350</td>\n",
       "      <td>149762350</td>\n",
       "      <td>2019</td>\n",
       "      <td>dark phoenix</td>\n",
       "      <td>tt6565702</td>\n",
       "      <td>Dark Phoenix</td>\n",
       "      <td>Dark Phoenix</td>\n",
       "      <td>2019</td>\n",
       "      <td>113.0</td>\n",
       "      <td>Action,Adventure,Sci-Fi</td>\n",
       "      <td>Action</td>\n",
       "      <td>dark phoenix</td>\n",
       "    </tr>\n",
       "    <tr>\n",
       "      <th>2</th>\n",
       "      <td>4</td>\n",
       "      <td>2015-05-01</td>\n",
       "      <td>Avengers: Age of Ultron</td>\n",
       "      <td>330600000</td>\n",
       "      <td>459005868</td>\n",
       "      <td>1403013963</td>\n",
       "      <td>2015</td>\n",
       "      <td>avengers age of ultron</td>\n",
       "      <td>tt2395427</td>\n",
       "      <td>Avengers: Age of Ultron</td>\n",
       "      <td>Avengers: Age of Ultron</td>\n",
       "      <td>2015</td>\n",
       "      <td>141.0</td>\n",
       "      <td>Action,Adventure,Sci-Fi</td>\n",
       "      <td>Action</td>\n",
       "      <td>avengers age of ultron</td>\n",
       "    </tr>\n",
       "  </tbody>\n",
       "</table>\n",
       "</div>"
      ],
      "text/plain": [
       "   id release_date                                        movie  \\\n",
       "0   2   2011-05-20  Pirates of the Caribbean: On Stranger Tides   \n",
       "1   3   2019-06-07                                 Dark Phoenix   \n",
       "2   4   2015-05-01                      Avengers: Age of Ultron   \n",
       "\n",
       "   production_budget  domestic_gross  worldwide_gross  release_year  \\\n",
       "0          410600000       241063875       1045663875          2011   \n",
       "1          350000000        42762350        149762350          2019   \n",
       "2          330600000       459005868       1403013963          2015   \n",
       "\n",
       "                                  movie_clean   movie_id  \\\n",
       "0  pirates of the caribbean on stranger tides  tt1298650   \n",
       "1                                dark phoenix  tt6565702   \n",
       "2                      avengers age of ultron  tt2395427   \n",
       "\n",
       "                                 primary_title  \\\n",
       "0  Pirates of the Caribbean: On Stranger Tides   \n",
       "1                                 Dark Phoenix   \n",
       "2                      Avengers: Age of Ultron   \n",
       "\n",
       "                                original_title  start_year  runtime_minutes  \\\n",
       "0  Pirates of the Caribbean: On Stranger Tides        2011            136.0   \n",
       "1                                 Dark Phoenix        2019            113.0   \n",
       "2                      Avengers: Age of Ultron        2015            141.0   \n",
       "\n",
       "                     genres main_genre  \\\n",
       "0  Action,Adventure,Fantasy     Action   \n",
       "1   Action,Adventure,Sci-Fi     Action   \n",
       "2   Action,Adventure,Sci-Fi     Action   \n",
       "\n",
       "                                  clean_title  \n",
       "0  pirates of the caribbean on stranger tides  \n",
       "1                                dark phoenix  \n",
       "2                      avengers age of ultron  "
      ]
     },
     "execution_count": 107,
     "metadata": {},
     "output_type": "execute_result"
    }
   ],
   "source": [
    "merged_genres.head(3)"
   ]
  },
  {
   "cell_type": "code",
   "execution_count": 108,
   "metadata": {},
   "outputs": [
    {
     "data": {
      "text/html": [
       "<div>\n",
       "<style scoped>\n",
       "    .dataframe tbody tr th:only-of-type {\n",
       "        vertical-align: middle;\n",
       "    }\n",
       "\n",
       "    .dataframe tbody tr th {\n",
       "        vertical-align: top;\n",
       "    }\n",
       "\n",
       "    .dataframe thead th {\n",
       "        text-align: right;\n",
       "    }\n",
       "</style>\n",
       "<table border=\"1\" class=\"dataframe\">\n",
       "  <thead>\n",
       "    <tr style=\"text-align: right;\">\n",
       "      <th></th>\n",
       "      <th>movie_clean</th>\n",
       "      <th>production_budget</th>\n",
       "      <th>worldwide_gross</th>\n",
       "      <th>release_date</th>\n",
       "      <th>main_genre</th>\n",
       "      <th>movie_id</th>\n",
       "    </tr>\n",
       "  </thead>\n",
       "  <tbody>\n",
       "    <tr>\n",
       "      <th>0</th>\n",
       "      <td>pirates of the caribbean on stranger tides</td>\n",
       "      <td>410600000</td>\n",
       "      <td>1045663875</td>\n",
       "      <td>2011-05-20</td>\n",
       "      <td>Action</td>\n",
       "      <td>tt1298650</td>\n",
       "    </tr>\n",
       "    <tr>\n",
       "      <th>1</th>\n",
       "      <td>dark phoenix</td>\n",
       "      <td>350000000</td>\n",
       "      <td>149762350</td>\n",
       "      <td>2019-06-07</td>\n",
       "      <td>Action</td>\n",
       "      <td>tt6565702</td>\n",
       "    </tr>\n",
       "    <tr>\n",
       "      <th>2</th>\n",
       "      <td>avengers age of ultron</td>\n",
       "      <td>330600000</td>\n",
       "      <td>1403013963</td>\n",
       "      <td>2015-05-01</td>\n",
       "      <td>Action</td>\n",
       "      <td>tt2395427</td>\n",
       "    </tr>\n",
       "  </tbody>\n",
       "</table>\n",
       "</div>"
      ],
      "text/plain": [
       "                                  movie_clean  production_budget  \\\n",
       "0  pirates of the caribbean on stranger tides          410600000   \n",
       "1                                dark phoenix          350000000   \n",
       "2                      avengers age of ultron          330600000   \n",
       "\n",
       "   worldwide_gross release_date main_genre   movie_id  \n",
       "0       1045663875   2011-05-20     Action  tt1298650  \n",
       "1        149762350   2019-06-07     Action  tt6565702  \n",
       "2       1403013963   2015-05-01     Action  tt2395427  "
      ]
     },
     "execution_count": 108,
     "metadata": {},
     "output_type": "execute_result"
    }
   ],
   "source": [
    "important_columns = ['movie_clean','production_budget','worldwide_gross','release_date','main_genre','movie_id']\n",
    "\n",
    "merged_genres = merged_genres[important_columns]\n",
    "merged_genres.head(3)"
   ]
  },
  {
   "cell_type": "markdown",
   "metadata": {},
   "source": [
    "I have removed redudant and unnecessary columns, for a cleaner and easy to use dataframe"
   ]
  },
  {
   "cell_type": "code",
   "execution_count": 110,
   "metadata": {},
   "outputs": [
    {
     "name": "stdout",
     "output_type": "stream",
     "text": [
      "Final dataset size: 1629\n",
      "Movies with directors: 1626\n"
     ]
    }
   ],
   "source": [
    "# 2. Add directors to the merged data\n",
    "final_df = pd.merge(merged_genres, directors[['movie_id', 'director_clean']], on='movie_id', how='left')\n",
    "\n",
    "print(f\"Final dataset size: {len(final_df)}\")\n",
    "print(f\"Movies with directors: {final_df['director_clean'].notna().sum()}\")"
   ]
  },
  {
   "cell_type": "markdown",
   "metadata": {},
   "source": [
    "Only 3 movies do not have directors, nice!"
   ]
  },
  {
   "cell_type": "markdown",
   "metadata": {},
   "source": [
    "### Dealing with duplicate movie names in `final_df`\n",
    "I am going to split the data into two parts:\n",
    "- I will use the original `final_df` which has **one row per movie-director** and then group by director to calculate director statistics(for objective 4).\n",
    "- Then create a new `movie_df` from `final_df`, this will have **one row per movie**, with only the first director name (for objectives 1, 2, 3).\n",
    "\n",
    "This will help me do genre-profit analysis without bias while also  getting to know proven directors as if I use `final_df` alone, the figures in profit will be exagarated for some movies specially if they have more than one director, and if I use `movie_df` alone I will disadvantage some directors who co-directed movies as there names will not appear."
   ]
  },
  {
   "cell_type": "code",
   "execution_count": 113,
   "metadata": {},
   "outputs": [
    {
     "data": {
      "text/html": [
       "<div>\n",
       "<style scoped>\n",
       "    .dataframe tbody tr th:only-of-type {\n",
       "        vertical-align: middle;\n",
       "    }\n",
       "\n",
       "    .dataframe tbody tr th {\n",
       "        vertical-align: top;\n",
       "    }\n",
       "\n",
       "    .dataframe thead th {\n",
       "        text-align: right;\n",
       "    }\n",
       "</style>\n",
       "<table border=\"1\" class=\"dataframe\">\n",
       "  <thead>\n",
       "    <tr style=\"text-align: right;\">\n",
       "      <th></th>\n",
       "      <th>movie_clean</th>\n",
       "      <th>production_budget</th>\n",
       "      <th>worldwide_gross</th>\n",
       "      <th>release_date</th>\n",
       "      <th>main_genre</th>\n",
       "      <th>movie_id</th>\n",
       "      <th>director_clean</th>\n",
       "    </tr>\n",
       "  </thead>\n",
       "  <tbody>\n",
       "    <tr>\n",
       "      <th>0</th>\n",
       "      <td>pirates of the caribbean on stranger tides</td>\n",
       "      <td>410600000</td>\n",
       "      <td>1045663875</td>\n",
       "      <td>2011-05-20</td>\n",
       "      <td>Action</td>\n",
       "      <td>tt1298650</td>\n",
       "      <td>rob marshall</td>\n",
       "    </tr>\n",
       "    <tr>\n",
       "      <th>1</th>\n",
       "      <td>dark phoenix</td>\n",
       "      <td>350000000</td>\n",
       "      <td>149762350</td>\n",
       "      <td>2019-06-07</td>\n",
       "      <td>Action</td>\n",
       "      <td>tt6565702</td>\n",
       "      <td>simon kinberg</td>\n",
       "    </tr>\n",
       "  </tbody>\n",
       "</table>\n",
       "</div>"
      ],
      "text/plain": [
       "                                  movie_clean  production_budget  \\\n",
       "0  pirates of the caribbean on stranger tides          410600000   \n",
       "1                                dark phoenix          350000000   \n",
       "\n",
       "   worldwide_gross release_date main_genre   movie_id director_clean  \n",
       "0       1045663875   2011-05-20     Action  tt1298650   rob marshall  \n",
       "1        149762350   2019-06-07     Action  tt6565702  simon kinberg  "
      ]
     },
     "execution_count": 113,
     "metadata": {},
     "output_type": "execute_result"
    }
   ],
   "source": [
    "# 2. Unduplicating movies for non-director analysis\n",
    "movie_df = final_df.drop_duplicates('movie_clean').copy()\n",
    "movie_df.head(2)"
   ]
  },
  {
   "cell_type": "code",
   "execution_count": 114,
   "metadata": {},
   "outputs": [
    {
     "name": "stdout",
     "output_type": "stream",
     "text": [
      "Original Movie list: 1629\n",
      "Unique Movie list: 1422\n"
     ]
    }
   ],
   "source": [
    "print(f\"Original Movie list: {len(final_df)}\")\n",
    "print(f\"Unique Movie list: {len(movie_df)}\")"
   ]
  },
  {
   "cell_type": "markdown",
   "metadata": {},
   "source": [
    "### Exploring The Two New Datasets"
   ]
  },
  {
   "cell_type": "markdown",
   "metadata": {},
   "source": [
    "#### Exploring`final_df`"
   ]
  },
  {
   "cell_type": "code",
   "execution_count": 117,
   "metadata": {},
   "outputs": [
    {
     "data": {
      "text/plain": [
       "1"
      ]
     },
     "execution_count": 117,
     "metadata": {},
     "output_type": "execute_result"
    }
   ],
   "source": [
    "final_df[['movie_clean', 'director_clean']].duplicated().sum()"
   ]
  },
  {
   "cell_type": "code",
   "execution_count": 118,
   "metadata": {},
   "outputs": [
    {
     "data": {
      "text/plain": [
       "207"
      ]
     },
     "execution_count": 118,
     "metadata": {},
     "output_type": "execute_result"
    }
   ],
   "source": [
    "final_df['movie_clean'].duplicated().sum()"
   ]
  },
  {
   "cell_type": "markdown",
   "metadata": {},
   "source": [
    "- `movie_clean` has 207 duplicates, this is the issue we had but resolved it by  creating a new dataset, you also see, that movie-director [`movie_clean`, `director_clean`] pair has near 0 duplicates\n",
    "- The `final_df` has duplicates for some movies, this is very important so as it enables me to catch every director in director nalysis "
   ]
  },
  {
   "cell_type": "code",
   "execution_count": 120,
   "metadata": {},
   "outputs": [
    {
     "name": "stdout",
     "output_type": "stream",
     "text": [
      "<class 'pandas.core.frame.DataFrame'>\n",
      "RangeIndex: 1629 entries, 0 to 1628\n",
      "Data columns (total 7 columns):\n",
      " #   Column             Non-Null Count  Dtype         \n",
      "---  ------             --------------  -----         \n",
      " 0   movie_clean        1629 non-null   object        \n",
      " 1   production_budget  1629 non-null   int64         \n",
      " 2   worldwide_gross    1629 non-null   int64         \n",
      " 3   release_date       1629 non-null   datetime64[ns]\n",
      " 4   main_genre         1629 non-null   object        \n",
      " 5   movie_id           1629 non-null   object        \n",
      " 6   director_clean     1626 non-null   object        \n",
      "dtypes: datetime64[ns](1), int64(2), object(4)\n",
      "memory usage: 89.2+ KB\n"
     ]
    }
   ],
   "source": [
    "final_df.info()"
   ]
  },
  {
   "cell_type": "markdown",
   "metadata": {},
   "source": [
    "- if you see `director_clean` only three movies have no director information, this is a negligable number\n",
    "- For the other columns there is no null value"
   ]
  },
  {
   "cell_type": "code",
   "execution_count": 122,
   "metadata": {},
   "outputs": [
    {
     "data": {
      "text/html": [
       "<div>\n",
       "<style scoped>\n",
       "    .dataframe tbody tr th:only-of-type {\n",
       "        vertical-align: middle;\n",
       "    }\n",
       "\n",
       "    .dataframe tbody tr th {\n",
       "        vertical-align: top;\n",
       "    }\n",
       "\n",
       "    .dataframe thead th {\n",
       "        text-align: right;\n",
       "    }\n",
       "</style>\n",
       "<table border=\"1\" class=\"dataframe\">\n",
       "  <thead>\n",
       "    <tr style=\"text-align: right;\">\n",
       "      <th></th>\n",
       "      <th>production_budget</th>\n",
       "      <th>worldwide_gross</th>\n",
       "      <th>release_date</th>\n",
       "    </tr>\n",
       "  </thead>\n",
       "  <tbody>\n",
       "    <tr>\n",
       "      <th>count</th>\n",
       "      <td>1.629000e+03</td>\n",
       "      <td>1.629000e+03</td>\n",
       "      <td>1629</td>\n",
       "    </tr>\n",
       "    <tr>\n",
       "      <th>mean</th>\n",
       "      <td>4.841679e+07</td>\n",
       "      <td>1.584953e+08</td>\n",
       "      <td>2014-06-08 09:33:42.099447552</td>\n",
       "    </tr>\n",
       "    <tr>\n",
       "      <th>min</th>\n",
       "      <td>2.500000e+04</td>\n",
       "      <td>2.600000e+01</td>\n",
       "      <td>2010-01-08 00:00:00</td>\n",
       "    </tr>\n",
       "    <tr>\n",
       "      <th>25%</th>\n",
       "      <td>1.000000e+07</td>\n",
       "      <td>1.440370e+07</td>\n",
       "      <td>2012-02-24 00:00:00</td>\n",
       "    </tr>\n",
       "    <tr>\n",
       "      <th>50%</th>\n",
       "      <td>2.500000e+07</td>\n",
       "      <td>6.162382e+07</td>\n",
       "      <td>2014-06-06 00:00:00</td>\n",
       "    </tr>\n",
       "    <tr>\n",
       "      <th>75%</th>\n",
       "      <td>6.500000e+07</td>\n",
       "      <td>1.736135e+08</td>\n",
       "      <td>2016-07-22 00:00:00</td>\n",
       "    </tr>\n",
       "    <tr>\n",
       "      <th>max</th>\n",
       "      <td>4.106000e+08</td>\n",
       "      <td>2.048134e+09</td>\n",
       "      <td>2019-06-14 00:00:00</td>\n",
       "    </tr>\n",
       "    <tr>\n",
       "      <th>std</th>\n",
       "      <td>5.758274e+07</td>\n",
       "      <td>2.506822e+08</td>\n",
       "      <td>NaN</td>\n",
       "    </tr>\n",
       "  </tbody>\n",
       "</table>\n",
       "</div>"
      ],
      "text/plain": [
       "       production_budget  worldwide_gross                   release_date\n",
       "count       1.629000e+03     1.629000e+03                           1629\n",
       "mean        4.841679e+07     1.584953e+08  2014-06-08 09:33:42.099447552\n",
       "min         2.500000e+04     2.600000e+01            2010-01-08 00:00:00\n",
       "25%         1.000000e+07     1.440370e+07            2012-02-24 00:00:00\n",
       "50%         2.500000e+07     6.162382e+07            2014-06-06 00:00:00\n",
       "75%         6.500000e+07     1.736135e+08            2016-07-22 00:00:00\n",
       "max         4.106000e+08     2.048134e+09            2019-06-14 00:00:00\n",
       "std         5.758274e+07     2.506822e+08                            NaN"
      ]
     },
     "execution_count": 122,
     "metadata": {},
     "output_type": "execute_result"
    }
   ],
   "source": [
    "final_df.describe()"
   ]
  },
  {
   "cell_type": "markdown",
   "metadata": {},
   "source": [
    "#### Exploring `movie_df`"
   ]
  },
  {
   "cell_type": "code",
   "execution_count": 124,
   "metadata": {},
   "outputs": [
    {
     "data": {
      "text/plain": [
       "0"
      ]
     },
     "execution_count": 124,
     "metadata": {},
     "output_type": "execute_result"
    }
   ],
   "source": [
    "movie_df[['movie_clean', 'director_clean']].duplicated().sum()"
   ]
  },
  {
   "cell_type": "code",
   "execution_count": 125,
   "metadata": {},
   "outputs": [
    {
     "data": {
      "text/plain": [
       "0"
      ]
     },
     "execution_count": 125,
     "metadata": {},
     "output_type": "execute_result"
    }
   ],
   "source": [
    "movie_df['movie_clean'].duplicated().sum()"
   ]
  },
  {
   "cell_type": "markdown",
   "metadata": {},
   "source": [
    "- This is after resoving the issue, this is the dataframe we will use for non-director analysis"
   ]
  },
  {
   "cell_type": "code",
   "execution_count": 127,
   "metadata": {},
   "outputs": [
    {
     "name": "stdout",
     "output_type": "stream",
     "text": [
      "<class 'pandas.core.frame.DataFrame'>\n",
      "Index: 1422 entries, 0 to 1628\n",
      "Data columns (total 7 columns):\n",
      " #   Column             Non-Null Count  Dtype         \n",
      "---  ------             --------------  -----         \n",
      " 0   movie_clean        1422 non-null   object        \n",
      " 1   production_budget  1422 non-null   int64         \n",
      " 2   worldwide_gross    1422 non-null   int64         \n",
      " 3   release_date       1422 non-null   datetime64[ns]\n",
      " 4   main_genre         1422 non-null   object        \n",
      " 5   movie_id           1422 non-null   object        \n",
      " 6   director_clean     1421 non-null   object        \n",
      "dtypes: datetime64[ns](1), int64(2), object(4)\n",
      "memory usage: 88.9+ KB\n"
     ]
    }
   ],
   "source": [
    "movie_df.info()"
   ]
  },
  {
   "cell_type": "markdown",
   "metadata": {},
   "source": [
    "**Conclusion:**\n",
    "\n",
    "`Final_df` Dataset: 1,629 relevant Movies to analyse current market trends (2010-2020)\n",
    "-  Director Coverage: Only 3 movies have no director info\n",
    "-  No Duplicates: Clean movie records in the context of director analysis\n",
    "\n",
    "`movie_df` Dataset: 1422 relevant Movies to analyse current market trends (2010-2020)\n",
    "-  All the columns have no null values, bar `director_clean` (1 null value)which is not significant.\n",
    "-  No duplicates\n",
    "\n",
    "**Important Columns:**\n",
    "- Profit analysis: `production_budget`, `worldwide_gross`, `main_genre`\n",
    "- prove directors: `director_clean`\n",
    "- when to release: `release_date`\n"
   ]
  },
  {
   "cell_type": "markdown",
   "metadata": {},
   "source": [
    "## Feature Engineering"
   ]
  },
  {
   "cell_type": "markdown",
   "metadata": {},
   "source": [
    "### Profit and ROI Calculation: \n",
    "We already have `production_budget` and `worldwide_gross`. We can calculate:\n",
    "- profit = worldwide_gross - production_budget\n",
    "- ROI = (profit / production_budget) * 100\n",
    "\n",
    "In `movie_df` as this would be the main dataframe for profit and ROI analysis(objective 1 and 3)"
   ]
  },
  {
   "cell_type": "code",
   "execution_count": 131,
   "metadata": {},
   "outputs": [
    {
     "data": {
      "text/html": [
       "<div>\n",
       "<style scoped>\n",
       "    .dataframe tbody tr th:only-of-type {\n",
       "        vertical-align: middle;\n",
       "    }\n",
       "\n",
       "    .dataframe tbody tr th {\n",
       "        vertical-align: top;\n",
       "    }\n",
       "\n",
       "    .dataframe thead th {\n",
       "        text-align: right;\n",
       "    }\n",
       "</style>\n",
       "<table border=\"1\" class=\"dataframe\">\n",
       "  <thead>\n",
       "    <tr style=\"text-align: right;\">\n",
       "      <th></th>\n",
       "      <th>movie_clean</th>\n",
       "      <th>production_budget</th>\n",
       "      <th>worldwide_gross</th>\n",
       "      <th>release_date</th>\n",
       "      <th>main_genre</th>\n",
       "      <th>movie_id</th>\n",
       "      <th>director_clean</th>\n",
       "      <th>profit</th>\n",
       "      <th>roi</th>\n",
       "    </tr>\n",
       "  </thead>\n",
       "  <tbody>\n",
       "    <tr>\n",
       "      <th>0</th>\n",
       "      <td>pirates of the caribbean on stranger tides</td>\n",
       "      <td>410600000</td>\n",
       "      <td>1045663875</td>\n",
       "      <td>2011-05-20</td>\n",
       "      <td>Action</td>\n",
       "      <td>tt1298650</td>\n",
       "      <td>rob marshall</td>\n",
       "      <td>635063875</td>\n",
       "      <td>154.667286</td>\n",
       "    </tr>\n",
       "    <tr>\n",
       "      <th>1</th>\n",
       "      <td>dark phoenix</td>\n",
       "      <td>350000000</td>\n",
       "      <td>149762350</td>\n",
       "      <td>2019-06-07</td>\n",
       "      <td>Action</td>\n",
       "      <td>tt6565702</td>\n",
       "      <td>simon kinberg</td>\n",
       "      <td>-200237650</td>\n",
       "      <td>-57.210757</td>\n",
       "    </tr>\n",
       "    <tr>\n",
       "      <th>2</th>\n",
       "      <td>avengers age of ultron</td>\n",
       "      <td>330600000</td>\n",
       "      <td>1403013963</td>\n",
       "      <td>2015-05-01</td>\n",
       "      <td>Action</td>\n",
       "      <td>tt2395427</td>\n",
       "      <td>joss whedon</td>\n",
       "      <td>1072413963</td>\n",
       "      <td>324.384139</td>\n",
       "    </tr>\n",
       "  </tbody>\n",
       "</table>\n",
       "</div>"
      ],
      "text/plain": [
       "                                  movie_clean  production_budget  \\\n",
       "0  pirates of the caribbean on stranger tides          410600000   \n",
       "1                                dark phoenix          350000000   \n",
       "2                      avengers age of ultron          330600000   \n",
       "\n",
       "   worldwide_gross release_date main_genre   movie_id director_clean  \\\n",
       "0       1045663875   2011-05-20     Action  tt1298650   rob marshall   \n",
       "1        149762350   2019-06-07     Action  tt6565702  simon kinberg   \n",
       "2       1403013963   2015-05-01     Action  tt2395427    joss whedon   \n",
       "\n",
       "       profit         roi  \n",
       "0   635063875  154.667286  \n",
       "1  -200237650  -57.210757  \n",
       "2  1072413963  324.384139  "
      ]
     },
     "execution_count": 131,
     "metadata": {},
     "output_type": "execute_result"
    }
   ],
   "source": [
    "movie_df['profit'] = movie_df['worldwide_gross'] - movie_df['production_budget']\n",
    "movie_df['roi'] = (movie_df['profit'] / movie_df['production_budget']) * 100\n",
    "movie_df.head(3)"
   ]
  },
  {
   "cell_type": "markdown",
   "metadata": {},
   "source": [
    "#### Dealing with **outliers** in `roi`"
   ]
  },
  {
   "cell_type": "code",
   "execution_count": 133,
   "metadata": {},
   "outputs": [
    {
     "name": "stdout",
     "output_type": "stream",
     "text": [
      "max roi : 41556.473999999995\n"
     ]
    },
    {
     "data": {
      "text/html": [
       "<div>\n",
       "<style scoped>\n",
       "    .dataframe tbody tr th:only-of-type {\n",
       "        vertical-align: middle;\n",
       "    }\n",
       "\n",
       "    .dataframe tbody tr th {\n",
       "        vertical-align: top;\n",
       "    }\n",
       "\n",
       "    .dataframe thead th {\n",
       "        text-align: right;\n",
       "    }\n",
       "</style>\n",
       "<table border=\"1\" class=\"dataframe\">\n",
       "  <thead>\n",
       "    <tr style=\"text-align: right;\">\n",
       "      <th></th>\n",
       "      <th>movie_clean</th>\n",
       "      <th>production_budget</th>\n",
       "      <th>worldwide_gross</th>\n",
       "      <th>roi</th>\n",
       "    </tr>\n",
       "  </thead>\n",
       "  <tbody>\n",
       "    <tr>\n",
       "      <th>1617</th>\n",
       "      <td>the gallows</td>\n",
       "      <td>100000</td>\n",
       "      <td>41656474</td>\n",
       "      <td>41556.474000</td>\n",
       "    </tr>\n",
       "    <tr>\n",
       "      <th>1550</th>\n",
       "      <td>the devil inside</td>\n",
       "      <td>1000000</td>\n",
       "      <td>101759490</td>\n",
       "      <td>10075.949000</td>\n",
       "    </tr>\n",
       "    <tr>\n",
       "      <th>1445</th>\n",
       "      <td>paranormal activity 2</td>\n",
       "      <td>3000000</td>\n",
       "      <td>177512032</td>\n",
       "      <td>5817.067733</td>\n",
       "    </tr>\n",
       "    <tr>\n",
       "      <th>1353</th>\n",
       "      <td>get out</td>\n",
       "      <td>5000000</td>\n",
       "      <td>255367951</td>\n",
       "      <td>5007.359020</td>\n",
       "    </tr>\n",
       "    <tr>\n",
       "      <th>1534</th>\n",
       "      <td>moonlight</td>\n",
       "      <td>1500000</td>\n",
       "      <td>65245512</td>\n",
       "      <td>4249.700800</td>\n",
       "    </tr>\n",
       "  </tbody>\n",
       "</table>\n",
       "</div>"
      ],
      "text/plain": [
       "                movie_clean  production_budget  worldwide_gross           roi\n",
       "1617            the gallows             100000         41656474  41556.474000\n",
       "1550       the devil inside            1000000        101759490  10075.949000\n",
       "1445  paranormal activity 2            3000000        177512032   5817.067733\n",
       "1353                get out            5000000        255367951   5007.359020\n",
       "1534              moonlight            1500000         65245512   4249.700800"
      ]
     },
     "execution_count": 133,
     "metadata": {},
     "output_type": "execute_result"
    }
   ],
   "source": [
    "# Checking for ouliers\n",
    "print(f'max roi : {movie_df['roi'].max()}')\n",
    "movie_df[['movie_clean', 'production_budget', 'worldwide_gross', 'roi']].sort_values('roi', ascending=False).head(5)"
   ]
  },
  {
   "cell_type": "markdown",
   "metadata": {},
   "source": [
    "I noticed some movies had extremely high ROI values (like >5000%), which would make our genre and director analysis bad/unrealistic. These data errors or extreme outliers. To keep our recommendations real, I'll cap ROI at the 99th percentile. This preserves true high performers while reducing skew."
   ]
  },
  {
   "cell_type": "code",
   "execution_count": 135,
   "metadata": {},
   "outputs": [],
   "source": [
    "# Cap extreme ROI values at 99th percentile\n",
    "roi_las = movie_df['roi'].quantile(0.99)\n",
    "movie_df['roi'] = movie_df['roi'].clip(upper=roi_las)\n",
    "\n",
    "# this code we have not yet learned, but .clip(upper=roi_las) replaces values above the thershold by the threshold itself in our case roi_las"
   ]
  },
  {
   "cell_type": "markdown",
   "metadata": {},
   "source": [
    "### Extract The Release Date.\n",
    "From the `release_date`, extract the month and year as a name for seasonal analysis.\n",
    "\n",
    "In `movie_df` as this would be our main df for release month analysis and genre-year analysis (objective 2)"
   ]
  },
  {
   "cell_type": "code",
   "execution_count": 137,
   "metadata": {},
   "outputs": [
    {
     "data": {
      "text/html": [
       "<div>\n",
       "<style scoped>\n",
       "    .dataframe tbody tr th:only-of-type {\n",
       "        vertical-align: middle;\n",
       "    }\n",
       "\n",
       "    .dataframe tbody tr th {\n",
       "        vertical-align: top;\n",
       "    }\n",
       "\n",
       "    .dataframe thead th {\n",
       "        text-align: right;\n",
       "    }\n",
       "</style>\n",
       "<table border=\"1\" class=\"dataframe\">\n",
       "  <thead>\n",
       "    <tr style=\"text-align: right;\">\n",
       "      <th></th>\n",
       "      <th>movie_clean</th>\n",
       "      <th>production_budget</th>\n",
       "      <th>worldwide_gross</th>\n",
       "      <th>release_date</th>\n",
       "      <th>main_genre</th>\n",
       "      <th>movie_id</th>\n",
       "      <th>director_clean</th>\n",
       "      <th>profit</th>\n",
       "      <th>roi</th>\n",
       "      <th>release_month</th>\n",
       "      <th>release_year</th>\n",
       "    </tr>\n",
       "  </thead>\n",
       "  <tbody>\n",
       "    <tr>\n",
       "      <th>0</th>\n",
       "      <td>pirates of the caribbean on stranger tides</td>\n",
       "      <td>410600000</td>\n",
       "      <td>1045663875</td>\n",
       "      <td>2011-05-20</td>\n",
       "      <td>Action</td>\n",
       "      <td>tt1298650</td>\n",
       "      <td>rob marshall</td>\n",
       "      <td>635063875</td>\n",
       "      <td>154.667286</td>\n",
       "      <td>May</td>\n",
       "      <td>2011</td>\n",
       "    </tr>\n",
       "    <tr>\n",
       "      <th>1</th>\n",
       "      <td>dark phoenix</td>\n",
       "      <td>350000000</td>\n",
       "      <td>149762350</td>\n",
       "      <td>2019-06-07</td>\n",
       "      <td>Action</td>\n",
       "      <td>tt6565702</td>\n",
       "      <td>simon kinberg</td>\n",
       "      <td>-200237650</td>\n",
       "      <td>-57.210757</td>\n",
       "      <td>June</td>\n",
       "      <td>2019</td>\n",
       "    </tr>\n",
       "    <tr>\n",
       "      <th>2</th>\n",
       "      <td>avengers age of ultron</td>\n",
       "      <td>330600000</td>\n",
       "      <td>1403013963</td>\n",
       "      <td>2015-05-01</td>\n",
       "      <td>Action</td>\n",
       "      <td>tt2395427</td>\n",
       "      <td>joss whedon</td>\n",
       "      <td>1072413963</td>\n",
       "      <td>324.384139</td>\n",
       "      <td>May</td>\n",
       "      <td>2015</td>\n",
       "    </tr>\n",
       "  </tbody>\n",
       "</table>\n",
       "</div>"
      ],
      "text/plain": [
       "                                  movie_clean  production_budget  \\\n",
       "0  pirates of the caribbean on stranger tides          410600000   \n",
       "1                                dark phoenix          350000000   \n",
       "2                      avengers age of ultron          330600000   \n",
       "\n",
       "   worldwide_gross release_date main_genre   movie_id director_clean  \\\n",
       "0       1045663875   2011-05-20     Action  tt1298650   rob marshall   \n",
       "1        149762350   2019-06-07     Action  tt6565702  simon kinberg   \n",
       "2       1403013963   2015-05-01     Action  tt2395427    joss whedon   \n",
       "\n",
       "       profit         roi release_month  release_year  \n",
       "0   635063875  154.667286           May          2011  \n",
       "1  -200237650  -57.210757          June          2019  \n",
       "2  1072413963  324.384139           May          2015  "
      ]
     },
     "execution_count": 137,
     "metadata": {},
     "output_type": "execute_result"
    }
   ],
   "source": [
    "movie_df['release_month'] = movie_df['release_date'].dt.month_name()\n",
    "movie_df['release_year'] = movie_df['release_date'].dt.year\n",
    "movie_df.head(3)"
   ]
  },
  {
   "cell_type": "markdown",
   "metadata": {},
   "source": [
    "### Budget Category\n",
    "Create a categorical feature for budget levels, especially to for lower-budget movies\n",
    "- Budget between $\\$100k$ and $\\$10m$ I have considered to be low budget\n",
    "- between $\\$10m$ and $\\$50m$, I have considered to be medium budget\n",
    "- more than $\\$50m$  I have considered to be high budget\n",
    "\n",
    "In `movie_df` as this would be our main df for analysis of low-budget films to see if they can achieve high ROI.(objective 3)\n",
    "\n",
    "**Note:** According to Sundance Institute benchmarks, films under $\\$10M$ are considered true independent productions aligning with our new studio's scale as it is starting and this is the reason why I have choosen those categories. Major studios typically spend $30M+ on productions."
   ]
  },
  {
   "cell_type": "markdown",
   "metadata": {},
   "source": [
    "#### Dealing with `outliers` in budget_catergory"
   ]
  },
  {
   "cell_type": "code",
   "execution_count": 140,
   "metadata": {},
   "outputs": [
    {
     "data": {
      "text/plain": [
       "dtype('int64')"
      ]
     },
     "execution_count": 140,
     "metadata": {},
     "output_type": "execute_result"
    }
   ],
   "source": [
    "movie_df['production_budget'].dtype"
   ]
  },
  {
   "cell_type": "code",
   "execution_count": 141,
   "metadata": {},
   "outputs": [
    {
     "data": {
      "text/html": [
       "<div>\n",
       "<style scoped>\n",
       "    .dataframe tbody tr th:only-of-type {\n",
       "        vertical-align: middle;\n",
       "    }\n",
       "\n",
       "    .dataframe tbody tr th {\n",
       "        vertical-align: top;\n",
       "    }\n",
       "\n",
       "    .dataframe thead th {\n",
       "        text-align: right;\n",
       "    }\n",
       "</style>\n",
       "<table border=\"1\" class=\"dataframe\">\n",
       "  <thead>\n",
       "    <tr style=\"text-align: right;\">\n",
       "      <th></th>\n",
       "      <th>movie_clean</th>\n",
       "      <th>production_budget</th>\n",
       "      <th>roi</th>\n",
       "    </tr>\n",
       "  </thead>\n",
       "  <tbody>\n",
       "    <tr>\n",
       "      <th>1621</th>\n",
       "      <td>happy christmas</td>\n",
       "      <td>70000</td>\n",
       "      <td>-56.697143</td>\n",
       "    </tr>\n",
       "    <tr>\n",
       "      <th>1622</th>\n",
       "      <td>absentia</td>\n",
       "      <td>70000</td>\n",
       "      <td>-87.778571</td>\n",
       "    </tr>\n",
       "    <tr>\n",
       "      <th>1624</th>\n",
       "      <td>tiny furniture</td>\n",
       "      <td>50000</td>\n",
       "      <td>748.298000</td>\n",
       "    </tr>\n",
       "    <tr>\n",
       "      <th>1625</th>\n",
       "      <td>counting</td>\n",
       "      <td>50000</td>\n",
       "      <td>-83.252000</td>\n",
       "    </tr>\n",
       "    <tr>\n",
       "      <th>1626</th>\n",
       "      <td>raymond did it</td>\n",
       "      <td>40000</td>\n",
       "      <td>-90.920000</td>\n",
       "    </tr>\n",
       "  </tbody>\n",
       "</table>\n",
       "</div>"
      ],
      "text/plain": [
       "          movie_clean  production_budget         roi\n",
       "1621  happy christmas              70000  -56.697143\n",
       "1622         absentia              70000  -87.778571\n",
       "1624   tiny furniture              50000  748.298000\n",
       "1625         counting              50000  -83.252000\n",
       "1626   raymond did it              40000  -90.920000"
      ]
     },
     "execution_count": 141,
     "metadata": {},
     "output_type": "execute_result"
    }
   ],
   "source": [
    "# ultra-low budget films\n",
    "movie_df.loc[movie_df['production_budget'] < 100000, ['movie_clean','production_budget', 'roi']].head()"
   ]
  },
  {
   "cell_type": "markdown",
   "metadata": {},
   "source": [
    "- The dataset includes films with budgets below $\\$100k$ which represent amatuer films or data errors, not commercial productions for studios. Since our focus is on professional movies, I'll set a $100k minimum budget threshold before categorizing budget levels."
   ]
  },
  {
   "cell_type": "code",
   "execution_count": 143,
   "metadata": {},
   "outputs": [],
   "source": [
    "# removing movies ssmaller than 100000\n",
    "movie_df = movie_df[movie_df['production_budget'] >= 100000]"
   ]
  },
  {
   "cell_type": "code",
   "execution_count": 144,
   "metadata": {},
   "outputs": [
    {
     "data": {
      "text/plain": [
       "budget_category\n",
       "medium    696\n",
       "high      402\n",
       "low       317\n",
       "Name: count, dtype: int64"
      ]
     },
     "execution_count": 144,
     "metadata": {},
     "output_type": "execute_result"
    }
   ],
   "source": [
    "# catergorizing budgets\n",
    "movie_df['budget_category'] = 'medium' #default\n",
    "movie_df.loc[movie_df['production_budget'] < 10000000, 'budget_category'] = 'low'\n",
    "movie_df.loc[movie_df['production_budget'] > 50000000, 'budget_category'] = 'high'\n",
    "movie_df['budget_category'].value_counts()"
   ]
  },
  {
   "cell_type": "markdown",
   "metadata": {},
   "source": [
    "### Director Success Measure\n",
    "\n",
    "I have decided that for a director to be viewed as a proven director, he\\she should have:\n",
    "\n",
    "- Atleast 3 movies from 2010 to 2020, meaning he is familiar with current trends and to filter those who had success by luck and focus on those with consistent performance\n",
    "- His average ROI should be greater than the median ROI\n",
    "\n",
    "**Note:** I did not use **mean** as it is more **susceptible** to outliers compared to the **median**\n",
    "\n",
    "**For this I will create a new dataframe to use from `final_df` as `final_df` has a lot of duplicates which can be a problem during analysis** \n",
    "\n",
    "The new dataframe will be the **main dataframe used for analysis of proven directors for hire.**(objective 4)"
   ]
  },
  {
   "cell_type": "code",
   "execution_count": 146,
   "metadata": {},
   "outputs": [
    {
     "data": {
      "text/html": [
       "<div>\n",
       "<style scoped>\n",
       "    .dataframe tbody tr th:only-of-type {\n",
       "        vertical-align: middle;\n",
       "    }\n",
       "\n",
       "    .dataframe tbody tr th {\n",
       "        vertical-align: top;\n",
       "    }\n",
       "\n",
       "    .dataframe thead th {\n",
       "        text-align: right;\n",
       "    }\n",
       "</style>\n",
       "<table border=\"1\" class=\"dataframe\">\n",
       "  <thead>\n",
       "    <tr style=\"text-align: right;\">\n",
       "      <th></th>\n",
       "      <th>movie_clean</th>\n",
       "      <th>production_budget</th>\n",
       "      <th>worldwide_gross</th>\n",
       "      <th>release_date</th>\n",
       "      <th>main_genre</th>\n",
       "      <th>movie_id</th>\n",
       "      <th>director_clean</th>\n",
       "      <th>profit</th>\n",
       "      <th>roi</th>\n",
       "    </tr>\n",
       "  </thead>\n",
       "  <tbody>\n",
       "    <tr>\n",
       "      <th>0</th>\n",
       "      <td>pirates of the caribbean on stranger tides</td>\n",
       "      <td>410600000</td>\n",
       "      <td>1045663875</td>\n",
       "      <td>2011-05-20</td>\n",
       "      <td>Action</td>\n",
       "      <td>tt1298650</td>\n",
       "      <td>rob marshall</td>\n",
       "      <td>635063875</td>\n",
       "      <td>154.667286</td>\n",
       "    </tr>\n",
       "    <tr>\n",
       "      <th>1</th>\n",
       "      <td>dark phoenix</td>\n",
       "      <td>350000000</td>\n",
       "      <td>149762350</td>\n",
       "      <td>2019-06-07</td>\n",
       "      <td>Action</td>\n",
       "      <td>tt6565702</td>\n",
       "      <td>simon kinberg</td>\n",
       "      <td>-200237650</td>\n",
       "      <td>-57.210757</td>\n",
       "    </tr>\n",
       "    <tr>\n",
       "      <th>2</th>\n",
       "      <td>avengers age of ultron</td>\n",
       "      <td>330600000</td>\n",
       "      <td>1403013963</td>\n",
       "      <td>2015-05-01</td>\n",
       "      <td>Action</td>\n",
       "      <td>tt2395427</td>\n",
       "      <td>joss whedon</td>\n",
       "      <td>1072413963</td>\n",
       "      <td>324.384139</td>\n",
       "    </tr>\n",
       "  </tbody>\n",
       "</table>\n",
       "</div>"
      ],
      "text/plain": [
       "                                  movie_clean  production_budget  \\\n",
       "0  pirates of the caribbean on stranger tides          410600000   \n",
       "1                                dark phoenix          350000000   \n",
       "2                      avengers age of ultron          330600000   \n",
       "\n",
       "   worldwide_gross release_date main_genre   movie_id director_clean  \\\n",
       "0       1045663875   2011-05-20     Action  tt1298650   rob marshall   \n",
       "1        149762350   2019-06-07     Action  tt6565702  simon kinberg   \n",
       "2       1403013963   2015-05-01     Action  tt2395427    joss whedon   \n",
       "\n",
       "       profit         roi  \n",
       "0   635063875  154.667286  \n",
       "1  -200237650  -57.210757  \n",
       "2  1072413963  324.384139  "
      ]
     },
     "execution_count": 146,
     "metadata": {},
     "output_type": "execute_result"
    }
   ],
   "source": [
    "final_df['profit'] = final_df['worldwide_gross'] - final_df['production_budget']\n",
    "final_df['roi'] = (final_df['profit'] / final_df['production_budget']) * 100\n",
    "final_df.head(3)"
   ]
  },
  {
   "cell_type": "markdown",
   "metadata": {},
   "source": [
    "- **^^** creating an ROI column for `final_df` so as to get ROI for each director "
   ]
  },
  {
   "cell_type": "code",
   "execution_count": 148,
   "metadata": {},
   "outputs": [
    {
     "data": {
      "text/html": [
       "<div>\n",
       "<style scoped>\n",
       "    .dataframe tbody tr th:only-of-type {\n",
       "        vertical-align: middle;\n",
       "    }\n",
       "\n",
       "    .dataframe tbody tr th {\n",
       "        vertical-align: top;\n",
       "    }\n",
       "\n",
       "    .dataframe thead th {\n",
       "        text-align: right;\n",
       "    }\n",
       "</style>\n",
       "<table border=\"1\" class=\"dataframe\">\n",
       "  <thead>\n",
       "    <tr style=\"text-align: right;\">\n",
       "      <th></th>\n",
       "      <th>director_clean</th>\n",
       "      <th>avg_roi</th>\n",
       "    </tr>\n",
       "  </thead>\n",
       "  <tbody>\n",
       "    <tr>\n",
       "      <th>0</th>\n",
       "      <td>aaron horvath</td>\n",
       "      <td>416.20593</td>\n",
       "    </tr>\n",
       "    <tr>\n",
       "      <th>1</th>\n",
       "      <td>aaron seltzer</td>\n",
       "      <td>307.12494</td>\n",
       "    </tr>\n",
       "  </tbody>\n",
       "</table>\n",
       "</div>"
      ],
      "text/plain": [
       "  director_clean    avg_roi\n",
       "0  aaron horvath  416.20593\n",
       "1  aaron seltzer  307.12494"
      ]
     },
     "execution_count": 148,
     "metadata": {},
     "output_type": "execute_result"
    }
   ],
   "source": [
    "director_avg_roi = final_df.groupby('director_clean')['roi'].mean().reset_index(name='avg_roi')\n",
    "director_avg_roi.head(2)"
   ]
  },
  {
   "cell_type": "markdown",
   "metadata": {},
   "source": [
    "- **^^** getting the mean roi for each director"
   ]
  },
  {
   "cell_type": "code",
   "execution_count": 150,
   "metadata": {},
   "outputs": [
    {
     "data": {
      "text/plain": [
       "(1070, 2)"
      ]
     },
     "execution_count": 150,
     "metadata": {},
     "output_type": "execute_result"
    }
   ],
   "source": [
    "# Count films per director\n",
    "director_film_count = final_df['director_clean'].value_counts().reset_index()\n",
    "director_film_count.columns = ['director_clean', 'film_count']\n",
    "director_film_count.shape"
   ]
  },
  {
   "cell_type": "code",
   "execution_count": 151,
   "metadata": {},
   "outputs": [
    {
     "data": {
      "text/html": [
       "<div>\n",
       "<style scoped>\n",
       "    .dataframe tbody tr th:only-of-type {\n",
       "        vertical-align: middle;\n",
       "    }\n",
       "\n",
       "    .dataframe tbody tr th {\n",
       "        vertical-align: top;\n",
       "    }\n",
       "\n",
       "    .dataframe thead th {\n",
       "        text-align: right;\n",
       "    }\n",
       "</style>\n",
       "<table border=\"1\" class=\"dataframe\">\n",
       "  <thead>\n",
       "    <tr style=\"text-align: right;\">\n",
       "      <th></th>\n",
       "      <th>director_clean</th>\n",
       "      <th>avg_roi</th>\n",
       "      <th>film_count</th>\n",
       "    </tr>\n",
       "  </thead>\n",
       "  <tbody>\n",
       "    <tr>\n",
       "      <th>0</th>\n",
       "      <td>aaron horvath</td>\n",
       "      <td>416.205930</td>\n",
       "      <td>1</td>\n",
       "    </tr>\n",
       "    <tr>\n",
       "      <th>1</th>\n",
       "      <td>aaron seltzer</td>\n",
       "      <td>307.124940</td>\n",
       "      <td>1</td>\n",
       "    </tr>\n",
       "    <tr>\n",
       "      <th>2</th>\n",
       "      <td>abby kohn</td>\n",
       "      <td>186.105616</td>\n",
       "      <td>1</td>\n",
       "    </tr>\n",
       "  </tbody>\n",
       "</table>\n",
       "</div>"
      ],
      "text/plain": [
       "  director_clean     avg_roi  film_count\n",
       "0  aaron horvath  416.205930           1\n",
       "1  aaron seltzer  307.124940           1\n",
       "2      abby kohn  186.105616           1"
      ]
     },
     "execution_count": 151,
     "metadata": {},
     "output_type": "execute_result"
    }
   ],
   "source": [
    "# Combine ROI and film count data\n",
    "director_stats = pd.merge(director_avg_roi, director_film_count, on='director_clean')\n",
    "director_stats.head(3)"
   ]
  },
  {
   "cell_type": "markdown",
   "metadata": {},
   "source": [
    "combined ROI and film count into one dataframe for easier comparison in the next step"
   ]
  },
  {
   "cell_type": "code",
   "execution_count": 153,
   "metadata": {},
   "outputs": [
    {
     "data": {
      "text/plain": [
       "128.9632416467934"
      ]
     },
     "execution_count": 153,
     "metadata": {},
     "output_type": "execute_result"
    }
   ],
   "source": [
    "# Calculate median ROI for comparison\n",
    "median_roi = director_stats['avg_roi'].median()\n",
    "median_roi"
   ]
  },
  {
   "cell_type": "markdown",
   "metadata": {},
   "source": [
    "I used median instead of mean to compare as median is more resistant to outliers that is if there isone director with 1000% ROI, median will be more resistant to it compared to mean"
   ]
  },
  {
   "cell_type": "markdown",
   "metadata": {},
   "source": [
    "#### Dealing with outliers in `director_stats`"
   ]
  },
  {
   "cell_type": "code",
   "execution_count": 156,
   "metadata": {},
   "outputs": [
    {
     "data": {
      "image/png": "[encoded data removed]",
      "text/plain": [
       "<Figure size 1000x400 with 1 Axes>"
      ]
     },
     "metadata": {},
     "output_type": "display_data"
    }
   ],
   "source": [
    "# Film count vs ROI\n",
    "plt.figure(figsize=(10,4))\n",
    "sns.scatterplot(x='film_count', y='avg_roi', data=director_stats)\n",
    "plt.title(\"Director ROI vs Film Count\")\n",
    "plt.xlabel(\"Number of Films Directed\")\n",
    "plt.ylabel(\"Average ROI (%)\")\n",
    "plt.show()"
   ]
  },
  {
   "cell_type": "markdown",
   "metadata": {},
   "source": [
    "Some directors had high average ROI from just 1 or 2 movies, which doesn't prove consistent success. To ensure our recommendations are reliable, I'll require at least 3 films for proven status. This focuses on directors with consistent performance and fairness to other directors."
   ]
  },
  {
   "cell_type": "code",
   "execution_count": 158,
   "metadata": {},
   "outputs": [],
   "source": [
    "# Create proven directors column, it takes True or False\n",
    "director_stats['proven_director'] = (director_stats['avg_roi'] > median_roi) & (director_stats['film_count'] >= 3)"
   ]
  },
  {
   "cell_type": "code",
   "execution_count": 159,
   "metadata": {},
   "outputs": [
    {
     "data": {
      "text/plain": [
       "proven_director\n",
       "False    961\n",
       "True     109\n",
       "Name: count, dtype: int64"
      ]
     },
     "execution_count": 159,
     "metadata": {},
     "output_type": "execute_result"
    }
   ],
   "source": [
    "director_stats['proven_director'].value_counts()"
   ]
  },
  {
   "cell_type": "markdown",
   "metadata": {},
   "source": [
    "The problem was that `final_df` had many duplicates and included directors with **only one film**, which could bias the analysis of performance using ROI. To solve this:\n",
    "- I first calculated ROI per film, then got the average ROI per director and their film count. I used **median** instead of **mean** for ROI comparison to avoid the **influence of outliers**.\n",
    "- I also filtered for **directors with at least 3 movies** from 2010–2020 and an **average ROI above the median**, marking them as **proven_director**.This fits because it ensures the director is experienced with modern trends and consistent with his/her performance"
   ]
  },
  {
   "cell_type": "markdown",
   "metadata": {},
   "source": [
    "### Feature Purposes\n",
    "For `movie_df`:\n",
    "\n",
    "- `roi`\t- Measures investment return\n",
    "- `release_month` - to know best launch time\n",
    "- `budget_category`\t- segments films by cost\n",
    "\n",
    "For `final_df`:\n",
    "I have created a cleaner dataframe `director_stats` for director analysis which has the following columns:\n",
    "- `avg_roi`, `film_count`, `proven_director` - to use for hiring recommendations\n",
    "\n",
    "**Note** `final_df` is not that useful to us now"
   ]
  },
  {
   "cell_type": "markdown",
   "metadata": {},
   "source": [
    "# Data Analysis and Visualisation"
   ]
  },
  {
   "cell_type": "markdown",
   "metadata": {},
   "source": [
    "## Top 5 Genres by Profitability\n",
    "- What film types should we create?  "
   ]
  },
  {
   "cell_type": "markdown",
   "metadata": {},
   "source": [
    "### Genre ROI Ranking"
   ]
  },
  {
   "cell_type": "code",
   "execution_count": 165,
   "metadata": {},
   "outputs": [],
   "source": [
    "import matplotlib.pyplot as plt"
   ]
  },
  {
   "cell_type": "code",
   "execution_count": 166,
   "metadata": {},
   "outputs": [
    {
     "data": {
      "text/plain": [
       "main_genre\n",
       "Horror       912.134494\n",
       "Family       686.999816\n",
       "Animation    331.856516\n",
       "Drama        301.488316\n",
       "Mystery      266.705536\n",
       "Name: roi, dtype: float64"
      ]
     },
     "execution_count": 166,
     "metadata": {},
     "output_type": "execute_result"
    }
   ],
   "source": [
    "# Calculate average ROI for each genre\n",
    "top_genres = movie_df.groupby('main_genre')['roi'].mean().sort_values(ascending=False).head(5)\n",
    "top_genres"
   ]
  },
  {
   "cell_type": "markdown",
   "metadata": {},
   "source": [
    "- This calculates the average return on investment for each movie genre and sorts genres from highest to lowest ROI and picks the top 5"
   ]
  },
  {
   "cell_type": "code",
   "execution_count": 168,
   "metadata": {},
   "outputs": [
    {
     "data": {
      "image/png": "[encoded data removed]",
      "text/plain": [
       "<Figure size 640x480 with 1 Axes>"
      ]
     },
     "metadata": {},
     "output_type": "display_data"
    }
   ],
   "source": [
    "colors = ['purple', 'red', 'green', 'orange', 'skyblue']\n",
    "ax = top_genres.plot(kind='barh', color=colors)\n",
    "ax.bar_label(ax.containers[0], fmt = '%.0f%%', padding=5)\n",
    "\n",
    "plt.title('Top 5 Most Profitable Movie Genres', fontsize=16)\n",
    "plt.xlabel('Average Return on Investment (ROI %)', fontsize=12)\n",
    "plt.ylabel('Genre', fontsize=12)\n",
    "\n",
    "\n",
    "plt.show()"
   ]
  },
  {
   "cell_type": "markdown",
   "metadata": {},
   "source": [
    "- **Horror** movies with an average ROI of 912%, they outperform all other genres strongly, this suggests horror movies are often low-budget but high-revenue\n",
    "- **Family** at 687% and **Animation** 332% also have significant high ROIs\n",
    "- **Drama** at 301% and **Mystery** at 267% show high average returns, but they are much lower than the top three genres"
   ]
  },
  {
   "cell_type": "code",
   "execution_count": 170,
   "metadata": {},
   "outputs": [
    {
     "data": {
      "text/plain": [
       "Text(0, 0.5, 'Average ROI (%)')"
      ]
     },
     "execution_count": 170,
     "metadata": {},
     "output_type": "execute_result"
    },
    {
     "data": {
      "image/png": "[encoded data removed]",
      "text/plain": [
       "<Figure size 640x480 with 1 Axes>"
      ]
     },
     "metadata": {},
     "output_type": "display_data"
    }
   ],
   "source": [
    "genre_year = movie_df.groupby(['release_year','main_genre'])['roi'].mean().unstack()\n",
    "genre_year[['Horror','Animation','Drama']].plot(title='Genre ROI Trends (2010-2020)')\n",
    "plt.ylabel('Average ROI (%)')"
   ]
  },
  {
   "cell_type": "markdown",
   "metadata": {},
   "source": [
    "### Genre-Budget Relationship"
   ]
  },
  {
   "cell_type": "code",
   "execution_count": 172,
   "metadata": {},
   "outputs": [
    {
     "data": {
      "text/html": [
       "<div>\n",
       "<style scoped>\n",
       "    .dataframe tbody tr th:only-of-type {\n",
       "        vertical-align: middle;\n",
       "    }\n",
       "\n",
       "    .dataframe tbody tr th {\n",
       "        vertical-align: top;\n",
       "    }\n",
       "\n",
       "    .dataframe thead th {\n",
       "        text-align: right;\n",
       "    }\n",
       "</style>\n",
       "<table border=\"1\" class=\"dataframe\">\n",
       "  <thead>\n",
       "    <tr style=\"text-align: right;\">\n",
       "      <th></th>\n",
       "      <th>main_genre</th>\n",
       "      <th>budget_category</th>\n",
       "      <th>roi</th>\n",
       "    </tr>\n",
       "  </thead>\n",
       "  <tbody>\n",
       "    <tr>\n",
       "      <th>0</th>\n",
       "      <td>Animation</td>\n",
       "      <td>high</td>\n",
       "      <td>566.436466</td>\n",
       "    </tr>\n",
       "    <tr>\n",
       "      <th>1</th>\n",
       "      <td>Animation</td>\n",
       "      <td>low</td>\n",
       "      <td>-28.672900</td>\n",
       "    </tr>\n",
       "    <tr>\n",
       "      <th>2</th>\n",
       "      <td>Animation</td>\n",
       "      <td>medium</td>\n",
       "      <td>42.961323</td>\n",
       "    </tr>\n",
       "    <tr>\n",
       "      <th>3</th>\n",
       "      <td>Drama</td>\n",
       "      <td>high</td>\n",
       "      <td>204.036351</td>\n",
       "    </tr>\n",
       "    <tr>\n",
       "      <th>4</th>\n",
       "      <td>Drama</td>\n",
       "      <td>low</td>\n",
       "      <td>422.739842</td>\n",
       "    </tr>\n",
       "    <tr>\n",
       "      <th>5</th>\n",
       "      <td>Drama</td>\n",
       "      <td>medium</td>\n",
       "      <td>223.878104</td>\n",
       "    </tr>\n",
       "  </tbody>\n",
       "</table>\n",
       "</div>"
      ],
      "text/plain": [
       "  main_genre budget_category         roi\n",
       "0  Animation            high  566.436466\n",
       "1  Animation             low  -28.672900\n",
       "2  Animation          medium   42.961323\n",
       "3      Drama            high  204.036351\n",
       "4      Drama             low  422.739842\n",
       "5      Drama          medium  223.878104"
      ]
     },
     "execution_count": 172,
     "metadata": {},
     "output_type": "execute_result"
    }
   ],
   "source": [
    "budget_comparison = movie_df[movie_df['main_genre'].isin(['Horror', 'Family', 'Animation', 'Drama'])].groupby(['main_genre', 'budget_category'])['roi'].mean().reset_index()\n",
    "budget_comparison.head(6)"
   ]
  },
  {
   "cell_type": "markdown",
   "metadata": {},
   "source": [
    "- This calculates the **average ROI** for selected genres (`Horror`, `Family`, `Animation`, `Drama`) across different budget categories  \n",
    "- It compare how budget size affects profitability within each genre."
   ]
  },
  {
   "cell_type": "code",
   "execution_count": 174,
   "metadata": {},
   "outputs": [
    {
     "data": {
      "image/png": "[encoded data removed]",
      "text/plain": [
       "<Figure size 1000x600 with 1 Axes>"
      ]
     },
     "metadata": {},
     "output_type": "display_data"
    }
   ],
   "source": [
    "plt.figure(figsize=(10, 6))\n",
    "sns.barplot(data=budget_comparison,x='main_genre',y='roi',hue='budget_category',hue_order=['low', 'medium', 'high'])\n",
    "\n",
    "\n",
    "plt.title(\"Average ROI by Genre and Budget Level\", fontsize=16)\n",
    "plt.xlabel(\"Genre\", fontsize=12)\n",
    "plt.ylabel(\"Average ROI (%)\", fontsize=12)\n",
    "plt.legend(title='Budget Catergory')\n",
    "\n",
    "for p in plt.gca().patches:\n",
    "    height = p.get_height()\n",
    "    if height > 0:\n",
    "        plt.gca().text(p.get_x() + p.get_width()/2.,height + 10,f'{height:.0f}%',ha='center')\n",
    "\n",
    "plt.tight_layout()\n",
    "plt.show()"
   ]
  },
  {
   "cell_type": "markdown",
   "metadata": {},
   "source": [
    "- **Horror–low budget** movies have a high ROI of 1143%, it surpasses all other genre-budget combinations by a wide margin with the second one being **Family–high budget** movies with 687% which also performs well.\n",
    "- **Horror–medium budget** movies perform well with 632%, followed by **Animation–high budget** movies with 566%, both of which are strong but still far behind Horror–low budget.\n",
    "- **Drama–low budget** movies show a decent ROI of 423%, but **medium** and **high budget Drama** have much lower returns at 224% and 204% respectively.\n",
    "- **Animation–low** and **medium budget** movies perform poorly with ROIs of -28% and 43% respectively, making them less attractive for new investment.\n",
    "- **Family-low** and **high budget** hvave no data suggesting that few movies have been made on those catergories or the data on those was not collected"
   ]
  },
  {
   "cell_type": "markdown",
   "metadata": {},
   "source": [
    "## Optimal Release Timing  \n",
    "- When should we release different genres?   "
   ]
  },
  {
   "cell_type": "markdown",
   "metadata": {},
   "source": [
    "### Monthly Performance Trends"
   ]
  },
  {
   "cell_type": "code",
   "execution_count": 178,
   "metadata": {},
   "outputs": [
    {
     "data": {
      "text/html": [
       "<div>\n",
       "<style scoped>\n",
       "    .dataframe tbody tr th:only-of-type {\n",
       "        vertical-align: middle;\n",
       "    }\n",
       "\n",
       "    .dataframe tbody tr th {\n",
       "        vertical-align: top;\n",
       "    }\n",
       "\n",
       "    .dataframe thead th {\n",
       "        text-align: right;\n",
       "    }\n",
       "</style>\n",
       "<table border=\"1\" class=\"dataframe\">\n",
       "  <thead>\n",
       "    <tr style=\"text-align: right;\">\n",
       "      <th></th>\n",
       "      <th>release_month</th>\n",
       "      <th>roi</th>\n",
       "    </tr>\n",
       "  </thead>\n",
       "  <tbody>\n",
       "    <tr>\n",
       "      <th>0</th>\n",
       "      <td>April</td>\n",
       "      <td>220.420680</td>\n",
       "    </tr>\n",
       "    <tr>\n",
       "      <th>1</th>\n",
       "      <td>August</td>\n",
       "      <td>212.879513</td>\n",
       "    </tr>\n",
       "    <tr>\n",
       "      <th>2</th>\n",
       "      <td>December</td>\n",
       "      <td>198.358999</td>\n",
       "    </tr>\n",
       "  </tbody>\n",
       "</table>\n",
       "</div>"
      ],
      "text/plain": [
       "  release_month         roi\n",
       "0         April  220.420680\n",
       "1        August  212.879513\n",
       "2      December  198.358999"
      ]
     },
     "execution_count": 178,
     "metadata": {},
     "output_type": "execute_result"
    }
   ],
   "source": [
    "monthly_roi = movie_df.groupby('release_month')['roi'].mean().reset_index()\n",
    "monthly_roi.head(3)"
   ]
  },
  {
   "cell_type": "markdown",
   "metadata": {},
   "source": [
    "- This calculates the mean average roi for movies released in each month helping me to analysis each months roi\n",
    "- I can see that it is arranged alphabettically I will arrange them  as in calendar (jan,feb,march,...)"
   ]
  },
  {
   "cell_type": "code",
   "execution_count": 180,
   "metadata": {},
   "outputs": [],
   "source": [
    "month_order = ['January', 'February', 'March', 'April', 'May', 'June','July', 'August', 'September', 'October', 'November', 'December']\n",
    "monthly_roi['release_month'] = pd.Categorical(monthly_roi['release_month'],categories=month_order,ordered=True)\n",
    "monthly_roi = monthly_roi.sort_values('release_month')"
   ]
  },
  {
   "cell_type": "markdown",
   "metadata": {},
   "source": [
    "- This arranges the `release_month` column in from (Jan–Dec) instead of alphabetical order, ensuring correct sequence for plotting"
   ]
  },
  {
   "cell_type": "code",
   "execution_count": 182,
   "metadata": {},
   "outputs": [
    {
     "data": {
      "image/png": "[encoded data removed]",
      "text/plain": [
       "<Figure size 800x400 with 1 Axes>"
      ]
     },
     "metadata": {},
     "output_type": "display_data"
    }
   ],
   "source": [
    "plt.figure(figsize=(8, 4))\n",
    "plt.plot(monthly_roi['release_month'], monthly_roi['roi'], marker='o')\n",
    "\n",
    "plt.title(\"Average ROI by Release Month\")\n",
    "plt.xlabel(\"Month\")\n",
    "plt.ylabel(\"Average ROI\")\n",
    "plt.axhline(y=0, color='gray', linestyle='--')\n",
    "plt.xticks(rotation=45)\n",
    "plt.show()"
   ]
  },
  {
   "cell_type": "markdown",
   "metadata": {},
   "source": [
    "- Movies released in **July** have the highest average ROI, peak at over 350%, which significantly outperforms all other months. This means **July** is the most profitable release time.\n",
    "- **January** and **october** also performs well with an ROI around 320% and 300% respectively, making it a second option.\n",
    "-  **March**, **September**, and **December** have the lowest ROIs of around 200%"
   ]
  },
  {
   "cell_type": "markdown",
   "metadata": {},
   "source": [
    "## Low-Budget Movie Viability \n",
    "- Can <$\\$10$M films achieve high ROI? "
   ]
  },
  {
   "cell_type": "markdown",
   "metadata": {},
   "source": [
    "### Budget Catergory Comparison"
   ]
  },
  {
   "cell_type": "code",
   "execution_count": 186,
   "metadata": {},
   "outputs": [
    {
     "data": {
      "text/html": [
       "<div>\n",
       "<style scoped>\n",
       "    .dataframe tbody tr th:only-of-type {\n",
       "        vertical-align: middle;\n",
       "    }\n",
       "\n",
       "    .dataframe tbody tr th {\n",
       "        vertical-align: top;\n",
       "    }\n",
       "\n",
       "    .dataframe thead th {\n",
       "        text-align: right;\n",
       "    }\n",
       "</style>\n",
       "<table border=\"1\" class=\"dataframe\">\n",
       "  <thead>\n",
       "    <tr style=\"text-align: right;\">\n",
       "      <th></th>\n",
       "      <th>mean</th>\n",
       "      <th>count</th>\n",
       "    </tr>\n",
       "    <tr>\n",
       "      <th>is_low_budget</th>\n",
       "      <th></th>\n",
       "      <th></th>\n",
       "    </tr>\n",
       "  </thead>\n",
       "  <tbody>\n",
       "    <tr>\n",
       "      <th>False</th>\n",
       "      <td>210.843845</td>\n",
       "      <td>1098</td>\n",
       "    </tr>\n",
       "    <tr>\n",
       "      <th>True</th>\n",
       "      <td>395.754591</td>\n",
       "      <td>317</td>\n",
       "    </tr>\n",
       "  </tbody>\n",
       "</table>\n",
       "</div>"
      ],
      "text/plain": [
       "                     mean  count\n",
       "is_low_budget                   \n",
       "False          210.843845   1098\n",
       "True           395.754591    317"
      ]
     },
     "execution_count": 186,
     "metadata": {},
     "output_type": "execute_result"
    }
   ],
   "source": [
    "movie_df['is_low_budget'] = movie_df['production_budget'] < 10000000\n",
    "\n",
    "budget_comparison = movie_df.groupby('is_low_budget')['roi'].agg(['mean', 'count'])\n",
    "budget_comparison.head(3)"
   ]
  },
  {
   "cell_type": "markdown",
   "metadata": {},
   "source": [
    "- creating a new column `is_low_budget` to get movie with a production budget under $10M.  \n",
    "- I then compare the **average ROI** between low-budget and higher-budget movies to know which group performs better financially."
   ]
  },
  {
   "cell_type": "code",
   "execution_count": 188,
   "metadata": {},
   "outputs": [
    {
     "data": {
      "image/png": "[encoded data removed]",
      "text/plain": [
       "<Figure size 800x500 with 1 Axes>"
      ]
     },
     "metadata": {},
     "output_type": "display_data"
    }
   ],
   "source": [
    "plt.figure(figsize=(8, 5))\n",
    "budget_comparison['mean'].plot(kind='bar', color=['skyblue', 'orange'])\n",
    "\n",
    "plt.title(\"Average ROI: Low-Budget vs. Other Films\", fontsize=16)\n",
    "plt.xlabel(\"Budget Category\", fontsize=12)\n",
    "plt.ylabel(\"Average ROI (%)\", fontsize=12)\n",
    "plt.xticks([0, 1], ['Over $10M', 'Under $10M'], rotation = 0)\n",
    "\n",
    "for i, roi in enumerate(budget_comparison['mean']):\n",
    "    plt.text(i, roi + 10, f\"{roi:.0f}%\", ha='center', fontsize=12)\n",
    "    \n",
    "plt.tight_layout()\n",
    "plt.show()"
   ]
  },
  {
   "cell_type": "markdown",
   "metadata": {},
   "source": [
    "- **Low-budget** Movies outperform others by 183% ROI."
   ]
  },
  {
   "cell_type": "markdown",
   "metadata": {},
   "source": [
    "### Top Low-Budget Genres"
   ]
  },
  {
   "cell_type": "code",
   "execution_count": 191,
   "metadata": {},
   "outputs": [
    {
     "data": {
      "text/plain": [
       "main_genre\n",
       "Horror       1142.574662\n",
       "Drama         422.739842\n",
       "Biography     396.535080\n",
       "Comedy        259.959639\n",
       "Adventure     223.133002\n",
       "Name: roi, dtype: float64"
      ]
     },
     "execution_count": 191,
     "metadata": {},
     "output_type": "execute_result"
    }
   ],
   "source": [
    "low_budget = movie_df[movie_df['is_low_budget']]\n",
    "top_low_genres = low_budget.groupby('main_genre')['roi'].mean().nlargest(5)\n",
    "top_low_genres"
   ]
  },
  {
   "cell_type": "markdown",
   "metadata": {},
   "source": [
    "- Filtering the dataset to include only **low-budget movies**, then calculating the **top 5 genres** with the highest average ROI within it"
   ]
  },
  {
   "cell_type": "code",
   "execution_count": 193,
   "metadata": {},
   "outputs": [
    {
     "data": {
      "image/png": "[encoded data removed]",
      "text/plain": [
       "<Figure size 1000x500 with 1 Axes>"
      ]
     },
     "metadata": {},
     "output_type": "display_data"
    }
   ],
   "source": [
    "plt.figure(figsize=(10, 5))\n",
    "top_low_genres.plot(kind='bar', color='green')\n",
    "\n",
    "plt.title(\"Top Genres for Low-Budget Films (<$10M)\", fontsize=16)\n",
    "plt.xlabel(\"Genre\", fontsize=12)\n",
    "plt.ylabel(\"Average ROI (%)\", fontsize=12)\n",
    "\n",
    "for i, roi in enumerate(top_low_genres):\n",
    "    plt.text(i, roi + 10, f\"{roi:.0f}%\", ha='center', fontsize=12)\n",
    "    \n",
    "plt.show()"
   ]
  },
  {
   "cell_type": "markdown",
   "metadata": {},
   "source": [
    "- **Horror** leads by a wide margin among low-budget movies, with an average ROI of 1131%.\n",
    "- **Drama** and **Biography** follow with strong returns of 412% and 397% respectively.\n",
    "- **Comedy** and **Adventure** offer average returns of 262% and 223%.\n",
    "\n",
    "The data clearly shows that Horror is the best low-budget investment, while Drama and Biography can also be good for studios aiming to keep costs down while maximizing ROI."
   ]
  },
  {
   "cell_type": "markdown",
   "metadata": {},
   "source": [
    "## Director Recommendations\n",
    "- Who should we hire to direct?  "
   ]
  },
  {
   "cell_type": "markdown",
   "metadata": {},
   "source": [
    "### Top Directors by ROI"
   ]
  },
  {
   "cell_type": "code",
   "execution_count": 197,
   "metadata": {},
   "outputs": [
    {
     "data": {
      "text/html": [
       "<div>\n",
       "<style scoped>\n",
       "    .dataframe tbody tr th:only-of-type {\n",
       "        vertical-align: middle;\n",
       "    }\n",
       "\n",
       "    .dataframe tbody tr th {\n",
       "        vertical-align: top;\n",
       "    }\n",
       "\n",
       "    .dataframe thead th {\n",
       "        text-align: right;\n",
       "    }\n",
       "</style>\n",
       "<table border=\"1\" class=\"dataframe\">\n",
       "  <thead>\n",
       "    <tr style=\"text-align: right;\">\n",
       "      <th></th>\n",
       "      <th>director_clean</th>\n",
       "      <th>avg_roi</th>\n",
       "      <th>film_count</th>\n",
       "      <th>proven_director</th>\n",
       "    </tr>\n",
       "  </thead>\n",
       "  <tbody>\n",
       "    <tr>\n",
       "      <th>75</th>\n",
       "      <td>ariel schulman</td>\n",
       "      <td>2350.139380</td>\n",
       "      <td>3</td>\n",
       "      <td>True</td>\n",
       "    </tr>\n",
       "    <tr>\n",
       "      <th>386</th>\n",
       "      <td>henry joost</td>\n",
       "      <td>2350.139380</td>\n",
       "      <td>3</td>\n",
       "      <td>True</td>\n",
       "    </tr>\n",
       "    <tr>\n",
       "      <th>401</th>\n",
       "      <td>james demonaco</td>\n",
       "      <td>1722.214364</td>\n",
       "      <td>3</td>\n",
       "      <td>True</td>\n",
       "    </tr>\n",
       "  </tbody>\n",
       "</table>\n",
       "</div>"
      ],
      "text/plain": [
       "     director_clean      avg_roi  film_count  proven_director\n",
       "75   ariel schulman  2350.139380           3             True\n",
       "386     henry joost  2350.139380           3             True\n",
       "401  james demonaco  1722.214364           3             True"
      ]
     },
     "execution_count": 197,
     "metadata": {},
     "output_type": "execute_result"
    }
   ],
   "source": [
    "qualified_directors = director_stats[director_stats['proven_director'] == True].sort_values('avg_roi', ascending=False).head(10)\n",
    "qualified_directors.head(3)"
   ]
  },
  {
   "cell_type": "markdown",
   "metadata": {},
   "source": [
    "- filtering directors who have made **at least 3 movies** and **roi greater than the median roi** then taking the **top 10** based on highest average ROI.  \n",
    "It gets the directors with proven records"
   ]
  },
  {
   "cell_type": "code",
   "execution_count": 199,
   "metadata": {},
   "outputs": [],
   "source": [
    "# Get top directors' best genres\n",
    "director_genres = []\n",
    "for director in qualified_directors['director_clean']:\n",
    "    dir_films = final_df[final_df['director_clean'] == director]\n",
    "    top_genre = dir_films.groupby('main_genre')['roi'].mean().idxmax()\n",
    "    director_genres.append([director, top_genre])\n",
    "\n",
    "# Create simple table\n",
    "genre_table = pd.DataFrame(director_genres, columns=['Director', 'Best Genre'])\n",
    "genre_table = genre_table.merge(qualified_directors[['director_clean', 'avg_roi']], left_on='Director', right_on='director_clean')"
   ]
  },
  {
   "cell_type": "markdown",
   "metadata": {},
   "source": [
    "This determines the **most profitable genre** for each of the top directors (based on ROI).  \n",
    "- It loops through each top director and filters their films.\n",
    "- For each director, it calculates the average ROI by genre and identifies the genre with the **highest average ROI**.\n",
    "- The results are compiled into a new table showing each director's **name**, their **best-performing genre**, and their **average ROI**."
   ]
  },
  {
   "cell_type": "code",
   "execution_count": 201,
   "metadata": {},
   "outputs": [
    {
     "data": {
      "image/png": "[encoded data removed]",
      "text/plain": [
       "<Figure size 1200x600 with 1 Axes>"
      ]
     },
     "metadata": {},
     "output_type": "display_data"
    }
   ],
   "source": [
    "plot_data = genre_table.sort_values('avg_roi', ascending=False)\n",
    "\n",
    "plt.figure(figsize=(12, 6))\n",
    "ax = sns.barplot(x='avg_roi', y='director_clean', hue='director_clean', data=plot_data, palette='rocket', dodge=False, legend=False)\n",
    "\n",
    "plt.title(\"Top 10 Directors by Average ROI (and 2+ movies)\", fontsize=16)\n",
    "plt.xlabel(\"Average ROI (%)\", fontsize=12)\n",
    "plt.ylabel(\"Director\", fontsize=12)\n",
    "\n",
    "\n",
    "for i, (roi, genre) in enumerate(zip(plot_data['avg_roi'], plot_data['Best Genre'])):\n",
    "    # ROI text\n",
    "    ax.text(roi + 10, i - 0.15, f\"{roi:.0f}%\", va='center', fontsize=10)\n",
    "    # Genre text\n",
    "    ax.text(roi + 10, i + 0.15, f\"{genre}\", va='center', fontsize=10, color='gray')\n",
    "\n",
    "plt.tight_layout()\n",
    "plt.show()"
   ]
  },
  {
   "cell_type": "markdown",
   "metadata": {},
   "source": [
    "- **Horror directors** dominate the top ROI rankings, with 6 out of 10 directors in the chart specializing in the horror genre.\n",
    "- **Henry Joost** and **Ariel Schulman** lead with the highest average ROI, followed by other horror directors such as , **James Demonaco**, and **James Wan**.\n",
    "- **Drama** director like **David F. Sandberg** also perform well, showing that drama is also a good venture.\n",
    "- We see also comedy (2) and adventure(1) directors making an appearance"
   ]
  },
  {
   "cell_type": "markdown",
   "metadata": {},
   "source": [
    "## Conclusion"
   ]
  },
  {
   "cell_type": "markdown",
   "metadata": {},
   "source": [
    "### Summary\n",
    "- The analysis reveals a strong and consistent pattern across multiple areas and these are: **genre profitability**, **budget effectiveness**, **release timing**, and **director performance**. The data makes it clear that **low-budget horror movies** offer the best return on investment for a new movie studio. \n",
    "\n",
    "- **Horror** movies produced for under $10 million deliver average ROIs exceeding 1143%, significantly outperforming all other genre-budget combinations.\n",
    "\n",
    "- **July** emerges as the most profitable release month, followed by **January** and **October**, indicating that timing plays a key role in maximizing revenue.\n",
    "\n",
    "- Director-level analysis also shows that the most financially successful directors those with at least three movies are concentrated in the horror genre, giving the studio a ready pool of proven talent. \n",
    "\n",
    "- While horror dominates in ROI, low-budget **drama and biography films** also show promising returns and offer a way to diversify the studio's content.\n"
   ]
  },
  {
   "cell_type": "markdown",
   "metadata": {},
   "source": [
    "### Recommendations\n",
    "\n",
    "Based on these insights, the following strategy is recommended for the new movie studio:\n",
    "\n",
    "1. **Focus on Low-Budget Horror Films**  \n",
    "   Begin by producing **horror movies** with budgets under $10M, as they deliver the highest ROI with minimal financial risk.\n",
    "\n",
    "2. **Target Peak Release Months**  \n",
    "   Schedule film releases in **July**, **January**, or **October** to capitalize on seasonal spikes in audience attendance and profitability.\n",
    "\n",
    "3. **Partner with Proven Horror Directors**  \n",
    "   Seek out directors who have demonstrated success in the horror genre, especially those with multiple high-ROI films, to reduce creative and financial risk.\n",
    "\n",
    "   - **Henry Joost** – Avg. ROI: 2350% | Genre: Horror\n",
    "\n",
    "   - **Ariel Schulman** – Avg. ROI: 2350% | Genre: Horror\n",
    "\n",
    "   - **F. Sandberg** – Avg. ROI: 1713% | Genre: Drama\n",
    "\n",
    "5. **Diversify with Drama and Biography**  \n",
    "   Include a few carefully selected low-budget **drama** or **biography** films in the slate to build brand depth, attract broader audiences, and potentially gain critical recognition.\n",
    "\n",
    "This approach provides a balanced, low-risk entry point into the film industry while maximizing the potential for commercial success.\n"
   ]
  },
  {
   "cell_type": "code",
   "execution_count": 206,
   "metadata": {},
   "outputs": [],
   "source": [
    "# Export movie_df for Tableau\n",
    "movie_df.to_csv('data/movie_df_export.csv', index=False)\n",
    "\n",
    "# Export directors_stats for Tableau\n",
    "director_stats.to_csv('data/director_stats_export.csv', index=False)"
   ]
  },
  {
   "cell_type": "code",
   "execution_count": 207,
   "metadata": {},
   "outputs": [
    {
     "data": {
      "text/html": [
       "<div>\n",
       "<style scoped>\n",
       "    .dataframe tbody tr th:only-of-type {\n",
       "        vertical-align: middle;\n",
       "    }\n",
       "\n",
       "    .dataframe tbody tr th {\n",
       "        vertical-align: top;\n",
       "    }\n",
       "\n",
       "    .dataframe thead th {\n",
       "        text-align: right;\n",
       "    }\n",
       "</style>\n",
       "<table border=\"1\" class=\"dataframe\">\n",
       "  <thead>\n",
       "    <tr style=\"text-align: right;\">\n",
       "      <th></th>\n",
       "      <th>director_clean</th>\n",
       "      <th>avg_roi</th>\n",
       "      <th>film_count</th>\n",
       "      <th>proven_director</th>\n",
       "    </tr>\n",
       "  </thead>\n",
       "  <tbody>\n",
       "    <tr>\n",
       "      <th>0</th>\n",
       "      <td>aaron horvath</td>\n",
       "      <td>416.205930</td>\n",
       "      <td>1</td>\n",
       "      <td>False</td>\n",
       "    </tr>\n",
       "    <tr>\n",
       "      <th>1</th>\n",
       "      <td>aaron seltzer</td>\n",
       "      <td>307.124940</td>\n",
       "      <td>1</td>\n",
       "      <td>False</td>\n",
       "    </tr>\n",
       "    <tr>\n",
       "      <th>2</th>\n",
       "      <td>abby kohn</td>\n",
       "      <td>186.105616</td>\n",
       "      <td>1</td>\n",
       "      <td>False</td>\n",
       "    </tr>\n",
       "    <tr>\n",
       "      <th>3</th>\n",
       "      <td>abhijit guha</td>\n",
       "      <td>143.388614</td>\n",
       "      <td>1</td>\n",
       "      <td>False</td>\n",
       "    </tr>\n",
       "    <tr>\n",
       "      <th>4</th>\n",
       "      <td>adam carolla</td>\n",
       "      <td>-92.455400</td>\n",
       "      <td>1</td>\n",
       "      <td>False</td>\n",
       "    </tr>\n",
       "    <tr>\n",
       "      <th>...</th>\n",
       "      <td>...</td>\n",
       "      <td>...</td>\n",
       "      <td>...</td>\n",
       "      <td>...</td>\n",
       "    </tr>\n",
       "    <tr>\n",
       "      <th>1065</th>\n",
       "      <td>yuefeng song</td>\n",
       "      <td>-98.163943</td>\n",
       "      <td>1</td>\n",
       "      <td>False</td>\n",
       "    </tr>\n",
       "    <tr>\n",
       "      <th>1066</th>\n",
       "      <td>yun xie</td>\n",
       "      <td>2617.924114</td>\n",
       "      <td>1</td>\n",
       "      <td>False</td>\n",
       "    </tr>\n",
       "    <tr>\n",
       "      <th>1067</th>\n",
       "      <td>zach braff</td>\n",
       "      <td>118.829248</td>\n",
       "      <td>2</td>\n",
       "      <td>False</td>\n",
       "    </tr>\n",
       "    <tr>\n",
       "      <th>1068</th>\n",
       "      <td>zack snyder</td>\n",
       "      <td>124.386352</td>\n",
       "      <td>5</td>\n",
       "      <td>False</td>\n",
       "    </tr>\n",
       "    <tr>\n",
       "      <th>1069</th>\n",
       "      <td>zal batmanglij</td>\n",
       "      <td>-53.416062</td>\n",
       "      <td>1</td>\n",
       "      <td>False</td>\n",
       "    </tr>\n",
       "  </tbody>\n",
       "</table>\n",
       "<p>1070 rows × 4 columns</p>\n",
       "</div>"
      ],
      "text/plain": [
       "      director_clean      avg_roi  film_count  proven_director\n",
       "0      aaron horvath   416.205930           1            False\n",
       "1      aaron seltzer   307.124940           1            False\n",
       "2          abby kohn   186.105616           1            False\n",
       "3       abhijit guha   143.388614           1            False\n",
       "4       adam carolla   -92.455400           1            False\n",
       "...              ...          ...         ...              ...\n",
       "1065    yuefeng song   -98.163943           1            False\n",
       "1066         yun xie  2617.924114           1            False\n",
       "1067      zach braff   118.829248           2            False\n",
       "1068     zack snyder   124.386352           5            False\n",
       "1069  zal batmanglij   -53.416062           1            False\n",
       "\n",
       "[1070 rows x 4 columns]"
      ]
     },
     "execution_count": 207,
     "metadata": {},
     "output_type": "execute_result"
    }
   ],
   "source": [
    "director_stats"
   ]
  },
  {
   "cell_type": "code",
   "execution_count": null,
   "metadata": {},
   "outputs": [],
   "source": []
  }
 ],
 "metadata": {
  "kernelspec": {
   "display_name": "Python [conda env:base] *",
   "language": "python",
   "name": "conda-base-py"
  },
  "language_info": {
   "codemirror_mode": {
    "name": "ipython",
    "version": 3
   },
   "file_extension": ".py",
   "mimetype": "text/x-python",
   "name": "python",
   "nbconvert_exporter": "python",
   "pygments_lexer": "ipython3",
   "version": "3.12.3"
  },
  "toc": {
   "base_numbering": 1,
   "nav_menu": {},
   "number_sections": true,
   "sideBar": true,
   "skip_h1_title": false,
   "title_cell": "Table of Contents",
   "title_sidebar": "Contents",
   "toc_cell": false,
   "toc_position": {},
   "toc_section_display": true,
   "toc_window_display": false
  }
 },
 "nbformat": 4,
 "nbformat_minor": 4
}
